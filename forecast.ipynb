{
 "cells": [
  {
   "cell_type": "code",
   "execution_count": 131,
   "id": "bc6f0359-78c5-4e41-ab29-5b6ddc059f8e",
   "metadata": {},
   "outputs": [],
   "source": [
    "import pandas as pd\n",
    "import keras\n",
    "import numpy as np\n",
    "import matplotlib.pyplot as plt\n",
    "import tensorflow as tf\n",
    "import lightgbm\n",
    "import sklearn\n",
    "\n",
    "from sklearn.model_selection import TimeSeriesSplit\n",
    "from sklearn.model_selection import cross_validate, cross_val_predict\n",
    "from sklearn.metrics import r2_score,  mean_absolute_percentage_error"
   ]
  },
  {
   "cell_type": "code",
   "execution_count": 2,
   "id": "9f704712-dfdd-4509-b37b-2cebca0d2920",
   "metadata": {},
   "outputs": [],
   "source": [
    "df_2010 = pd.read_csv('data/2010.csv')"
   ]
  },
  {
   "cell_type": "code",
   "execution_count": 3,
   "id": "a817adbe-2741-4896-92a5-cf018aa5216d",
   "metadata": {},
   "outputs": [
    {
     "data": {
      "text/html": [
       "<div>\n",
       "<style scoped>\n",
       "    .dataframe tbody tr th:only-of-type {\n",
       "        vertical-align: middle;\n",
       "    }\n",
       "\n",
       "    .dataframe tbody tr th {\n",
       "        vertical-align: top;\n",
       "    }\n",
       "\n",
       "    .dataframe thead th {\n",
       "        text-align: right;\n",
       "    }\n",
       "</style>\n",
       "<table border=\"1\" class=\"dataframe\">\n",
       "  <thead>\n",
       "    <tr style=\"text-align: right;\">\n",
       "      <th></th>\n",
       "      <th>ca</th>\n",
       "      <th>unit</th>\n",
       "      <th>scp</th>\n",
       "      <th>station</th>\n",
       "      <th>linename</th>\n",
       "      <th>division</th>\n",
       "      <th>desc</th>\n",
       "      <th>entries</th>\n",
       "      <th>exits</th>\n",
       "    </tr>\n",
       "    <tr>\n",
       "      <th>time</th>\n",
       "      <th></th>\n",
       "      <th></th>\n",
       "      <th></th>\n",
       "      <th></th>\n",
       "      <th></th>\n",
       "      <th></th>\n",
       "      <th></th>\n",
       "      <th></th>\n",
       "      <th></th>\n",
       "    </tr>\n",
       "  </thead>\n",
       "  <tbody>\n",
       "    <tr>\n",
       "      <th>2010-04-17 04:00:00</th>\n",
       "      <td>A002</td>\n",
       "      <td>R051</td>\n",
       "      <td>02-00-00</td>\n",
       "      <td>LEXINGTON AVE</td>\n",
       "      <td>456NQR</td>\n",
       "      <td>BMT</td>\n",
       "      <td>REGULAR</td>\n",
       "      <td>2704717.0</td>\n",
       "      <td>928793.0</td>\n",
       "    </tr>\n",
       "    <tr>\n",
       "      <th>2010-04-17 04:00:00</th>\n",
       "      <td>A002</td>\n",
       "      <td>R051</td>\n",
       "      <td>02-00-01</td>\n",
       "      <td>LEXINGTON AVE</td>\n",
       "      <td>456NQR</td>\n",
       "      <td>BMT</td>\n",
       "      <td>REGULAR</td>\n",
       "      <td>2697632.0</td>\n",
       "      <td>566683.0</td>\n",
       "    </tr>\n",
       "    <tr>\n",
       "      <th>2010-04-17 04:00:00</th>\n",
       "      <td>A002</td>\n",
       "      <td>R051</td>\n",
       "      <td>02-03-00</td>\n",
       "      <td>LEXINGTON AVE</td>\n",
       "      <td>456NQR</td>\n",
       "      <td>BMT</td>\n",
       "      <td>REGULAR</td>\n",
       "      <td>1127722.0</td>\n",
       "      <td>3943492.0</td>\n",
       "    </tr>\n",
       "    <tr>\n",
       "      <th>2010-04-17 04:00:00</th>\n",
       "      <td>A002</td>\n",
       "      <td>R051</td>\n",
       "      <td>02-03-01</td>\n",
       "      <td>LEXINGTON AVE</td>\n",
       "      <td>456NQR</td>\n",
       "      <td>BMT</td>\n",
       "      <td>REGULAR</td>\n",
       "      <td>2425570.0</td>\n",
       "      <td>3733289.0</td>\n",
       "    </tr>\n",
       "    <tr>\n",
       "      <th>2010-04-17 04:00:00</th>\n",
       "      <td>A002</td>\n",
       "      <td>R051</td>\n",
       "      <td>02-03-02</td>\n",
       "      <td>LEXINGTON AVE</td>\n",
       "      <td>456NQR</td>\n",
       "      <td>BMT</td>\n",
       "      <td>REGULAR</td>\n",
       "      <td>2214633.0</td>\n",
       "      <td>3021589.0</td>\n",
       "    </tr>\n",
       "  </tbody>\n",
       "</table>\n",
       "</div>"
      ],
      "text/plain": [
       "                       ca  unit       scp        station linename division  \\\n",
       "time                                                                         \n",
       "2010-04-17 04:00:00  A002  R051  02-00-00  LEXINGTON AVE   456NQR      BMT   \n",
       "2010-04-17 04:00:00  A002  R051  02-00-01  LEXINGTON AVE   456NQR      BMT   \n",
       "2010-04-17 04:00:00  A002  R051  02-03-00  LEXINGTON AVE   456NQR      BMT   \n",
       "2010-04-17 04:00:00  A002  R051  02-03-01  LEXINGTON AVE   456NQR      BMT   \n",
       "2010-04-17 04:00:00  A002  R051  02-03-02  LEXINGTON AVE   456NQR      BMT   \n",
       "\n",
       "                        desc    entries      exits  \n",
       "time                                                \n",
       "2010-04-17 04:00:00  REGULAR  2704717.0   928793.0  \n",
       "2010-04-17 04:00:00  REGULAR  2697632.0   566683.0  \n",
       "2010-04-17 04:00:00  REGULAR  1127722.0  3943492.0  \n",
       "2010-04-17 04:00:00  REGULAR  2425570.0  3733289.0  \n",
       "2010-04-17 04:00:00  REGULAR  2214633.0  3021589.0  "
      ]
     },
     "execution_count": 3,
     "metadata": {},
     "output_type": "execute_result"
    }
   ],
   "source": [
    "df_2010.set_index('time', inplace=True)\n",
    "df_2010.head()"
   ]
  },
  {
   "cell_type": "code",
   "execution_count": 4,
   "id": "5272b128-19a5-4334-a993-e618e1012daf",
   "metadata": {},
   "outputs": [
    {
     "data": {
      "text/plain": [
       "array(['LEXINGTON AVE', '57 ST-7 AVE', '49 ST-7 AVE', '42 ST-TIMES SQ',\n",
       "       '34 ST-HERALD SQ', '28 ST-BROADWAY', '23 ST-5 AVE',\n",
       "       \"8 ST-B'WAY NYU\", \"PRINCE ST-B'WAY\", \"MURRAY ST-B'WAY\",\n",
       "       'RECTOR ST', 'BOWERY', 'CHAMBERS ST', 'PROSPECT PARK',\n",
       "       'CHURCH AVE', 'BEVERLEY ROAD', 'CORTELYOU ROAD', 'AVE H', 'AVE J',\n",
       "       'AVE M', 'KINGS HIGHWAY', 'NECK ROAD', 'BRIGHTON BEACH',\n",
       "       'OCEAN PARKWAY', 'BOROUGH HALL/CT', 'JAY ST-METROTEC',\n",
       "       'DEKALB AVE', 'PACIFIC ST', 'UNION ST', '9 ST', 'PROSPECT AVE',\n",
       "       '25 ST', '45 ST', '53 ST', '59 ST', 'BAY RIDGE AVE', '77 ST',\n",
       "       '86 ST', 'BAY RIDGE-95 ST', '50 ST', '55 ST', '71 ST', '79 ST',\n",
       "       '18 AVE', '20 AVE', 'W 8 ST-AQUARIUM', '6 AVE', '3 AVE', '1 AVE',\n",
       "       'BEDFORD AVE', 'GRAHAM AVE', 'GRAND ST', 'MONTROSE AVE',\n",
       "       'MORGAN AVE', 'JEFFERSON ST', 'MYRTLE AVE', 'HALSEY ST',\n",
       "       'WILSON AVE', 'BUSHWICK AVE', 'ATLANTIC AVE', 'CYPRESS HILLS',\n",
       "       'ELDERTS LANE', 'FOREST PARKWAY', 'WOODHAVEN BLVD', '104 ST',\n",
       "       '111 ST', '121 ST', 'METROPOLITAN AV', '190 ST', '175 ST',\n",
       "       '168 ST-BROADWAY', '145 ST', '125 ST', '96 ST', '72 ST',\n",
       "       '59 ST-COLUMBUS', '42 ST-PA BUS TE', '34 ST-PENN STA', '23 ST',\n",
       "       'SPRING ST', 'CANAL ST', 'WORLD TRADE CTR', 'HIGH ST',\n",
       "       'HOYT/SCHERMER', 'CLINTON-WASH AV', 'NOSTRAND AVE',\n",
       "       'KINGSTON-THROOP', 'BROADWAY-ENY', 'EUCLID AVE', 'GRANT AVE',\n",
       "       'OXFORD-104 ST', 'LEFFERTS BLVD', 'AQUEDUCT TRACK', 'BEACH 67 ST',\n",
       "       'BEACH 60 ST', 'BEACH 44 ST', 'BEACH 36 ST', 'BEACH 25 ST',\n",
       "       'FAR ROCKAWAY', '167 ST', '174-175 ST', '182-183 ST',\n",
       "       'FORDHAM ROAD', 'LEXINGTON-53 ST', 'STEINWAY ST', 'ROOSEVELT AVE',\n",
       "       'ELMHURST AVE', 'GRAND AV-NEWTON', '63 DR-REGO PARK', '67 AVE',\n",
       "       '75 AVE', 'VAN WYCK BLVD', 'PARSONS BLVD', '169 ST',\n",
       "       'JAMAICA-179 ST', 'GREENPOINT AVE', 'NASSAU AV', 'BEDFORD/NOSTRAN',\n",
       "       'CLASSON AVE', 'FULTON ST', '47-50 ST-ROCK', '42 ST-BRYANT PK',\n",
       "       '23 ST-6 AVE', '14 ST-6 AVE', '2 AVE', 'EAST BROADWAY',\n",
       "       'CARROLL ST', 'SMITH-9 ST', '4 AVE', 'AVE P', 'AVE X',\n",
       "       'ROOSEVELT IS', '21 ST', 'SUTPHIN BLVD', 'JAMAICA CENTER',\n",
       "       'WALL ST', 'PARK PLACE', 'CHRISTOPHER ST', '14 ST', '18 ST',\n",
       "       '181 ST', '191 ST', 'DYCKMAN ST', '207 ST', '215 ST',\n",
       "       'MARBLE HILL-225', '231 ST', '242 ST', 'BOWLING GREEN',\n",
       "       'BROOKLYN BRIDGE', nan, '42 ST-GRD CNTRL', '51 ST', '110 ST',\n",
       "       '138 ST-GR CONC', '149 ST-GR CONC', '170 ST', 'MT EDEN AVE',\n",
       "       '176 ST', 'BURNSIDE AVE', '183 ST', 'BEDFORD PARK BL',\n",
       "       'WOODLAWN ROAD', '110 ST-CPN', '135 ST', '148 ST-LENOX',\n",
       "       '149 ST-3 AVE', 'ST LAWRENCE AVE', 'CASTLE HILL AVE',\n",
       "       'WESTCHESTER SQ', 'PELHAM BAY PARK', '5 AVE-BRYANT PK',\n",
       "       'VERNON/JACKSON', 'COURT SQ', 'QUEENSBORO PLZ', 'BEEBE-39 AVE',\n",
       "       'WASHINGTON-36 A', 'BROADWAY-31 ST', 'GRAND-30 AVE',\n",
       "       'HOYT ST-ASTORIA', 'DITMARS BL-31 S', '33 ST/RAWSON ST',\n",
       "       '40 ST-LOWERY ST', '46 ST-BLISS ST', '74 ST-BROADWAY',\n",
       "       '82 ST-JACKSON H', '90 ST-ELMHURST', 'JUNCTION BLVD',\n",
       "       '103 ST-CORONA', 'MAIN ST', 'CLARK ST', 'HOYT ST', 'NEVINS ST',\n",
       "       'BERGEN ST', 'GRAND ARMY PLAZ', 'EASTERN PKWY', 'FRANKLIN AVE',\n",
       "       'KINGSTON AVE', 'CROWN HTS-UTICA', 'SUTTER AVE', 'SARATOGA AVE',\n",
       "       'ROCKAWAY AVE', 'JUNIUS ST', 'PENNSYLVANIA AV', 'VAN SICLEN AVE',\n",
       "       'NEW LOTS AVE', 'PRESIDENT ST', 'STERLING ST', 'BEVERLY ROAD',\n",
       "       'GUN HILL ROAD', 'ST. GEORGE', 'PATH WTC', 'CITY / BUS',\n",
       "       '14TH STREET', 'THIRTY ST', '9TH STREET', 'NEWARK BM BW',\n",
       "       'NEWARK HW BMEBE', 'NEWARK C', 'EXCHANGE PLACE', 'NEWARK HM HE',\n",
       "       'GROVE STREET', 'LACKAWANNA', 'PAVONIA/NEWPORT', 'HARRISON',\n",
       "       'JOURNAL SQUARE', '161 ST-YANKEE', 'THIRTY THIRD ST',\n",
       "       '15 ST-PROSPECT', 'PATH WTC 2', '14 ST-UNION SQ', 'CORTLANDT ST',\n",
       "       'WHITEHALL ST', 'ESSEX ST', 'BROAD ST', '7 AVE', 'BOTANIC GARDEN',\n",
       "       'PARKSIDE AVE', 'NEWKIRK AVE', 'AVE U', 'SHEEPSHEAD BAY', '36 ST',\n",
       "       '8 AVE', 'FT HAMILTON PKY', 'NEW UTRECHT AVE', 'BAY PKY-22 AVE',\n",
       "       '9 AVE', 'BAY PARKWAY', '25 AVE', 'BAY 50 ST', 'STILLWELL AVE',\n",
       "       'LORIMER ST', 'LIVONIA AVE', 'EAST 105 ST', 'ROCKAWAY PKY',\n",
       "       'MARCY AVE', 'HEWES ST', 'FLUSHING AVE', 'KOSCIUSZKO ST',\n",
       "       'GATES AVE', 'CHAUNCEY ST', 'ALABAMA AVE', 'CLEVELAND ST',\n",
       "       'NORWOOD AVE', 'CRESCENT ST', 'JFK HOWARD BCH', 'JFK JAMAICA CT1',\n",
       "       'CENTRAL AVE', 'KNICKERBOCKER', 'SENECA AVE', 'FOREST AVE',\n",
       "       'FRESH POND ROAD', 'INWOOD-207 ST', 'DYCKMAN-200 ST',\n",
       "       '163 ST-AMSTERDM', '155 ST', '116 ST', 'CATHEDRL-110 ST', '103 ST',\n",
       "       '81 ST-MUSEUM', 'W 4 ST-WASH SQ', 'LAFAYETTE AVE', 'UTICA AVE',\n",
       "       'RALPH AVE', 'LIBERTY AVE', 'SHEPHERD AVE', 'HUDSON-80 ST',\n",
       "       'BOYD-88 ST', 'ROCKAWAY BLVD', 'GREENWOOD-111', 'AQUEDUCT-N CNDT',\n",
       "       'HOWARD BCH-JFK', 'BROAD CHANNEL', 'BEACH 90 ST', 'BEACH 98 ST',\n",
       "       'BEACH 105 ST', 'ROCKAWAY PK 116', 'TREMONT AVE', 'KINGSBRIDGE RD',\n",
       "       'NORWOOD-205 ST', '7 AVE-53 ST', 'COURT SQ-23 ST', 'QUEENS PLAZA',\n",
       "       '46 ST', 'NORTHERN BLVD', '65 ST', 'FOREST HILLS-71',\n",
       "       'VAN ALSTON-21ST', 'BROADWAY', 'MYRTLE-WILLOUGH', 'BROADWAY/LAFAY',\n",
       "       'DELANCEY ST', 'YORK ST', '7 AV-PARK SLOPE', 'DITMAS AVE', 'AVE I',\n",
       "       '22 AVE-BAY PKY', 'AVE N', 'NEPTUNE AVE', '57 ST',\n",
       "       'JAMAICA-VAN WYC', 'SOUTH FERRY', 'FRANKLIN ST', 'HOUSTON ST',\n",
       "       '28 ST', '66 ST-LINCOLN', '110 ST-CATHEDRL', '116 ST-COLUMBIA',\n",
       "       '137 ST-CITY COL', '157 ST', '238 ST', 'ASTOR PLACE', '33 ST',\n",
       "       '68ST-HUNTER COL', 'MOSHOLU PARKWAY', 'JACKSON AVE',\n",
       "       'INTERVALE-163', 'SIMPSON ST', 'FREEMAN ST', '174 ST',\n",
       "       'E TREMONT AVE', 'E 180 ST', 'BRONX PARK EAST', 'PELHAM PARKWAY',\n",
       "       'ALLERTON AVE', 'BURKE AVE', '219 ST', '225 ST', '233 ST',\n",
       "       'NEREID AVE', 'WAKEFIELD-241', '138 ST-3 AVE', 'BROOK AVE',\n",
       "       'CYPRESS AVE', 'E 143 ST', 'E 149 ST', 'LONGWOOD AVE',\n",
       "       'HUNTS POINT AVE', 'ELDER AVE', 'E 177 ST-PARKCH', 'ZEREGA AVE',\n",
       "       'MIDDLETOWN ROAD', 'BUHRE AVE', 'HUNTERS PT AVE', '52 ST-LINCOLN',\n",
       "       '61 ST/WOODSIDE', '69 ST-FISK AVE', 'METS-WILLETS PT',\n",
       "       'WINTHROP ST', 'FLATBUSH AVE', 'MORRIS PARK', 'BAYCHESTER AVE',\n",
       "       'DYRE AVE', 'TWENTY THIRD ST', '5 AVE-59 ST', '5 AVE-53 ST',\n",
       "       'TOMPKINSVILLE', 'UNION TPK-KEW G', 'ORCHARD BEACH',\n",
       "       'WHITLOCK AVE', 'MORRISON AVE', 'RIT-MANHATTAN', 'RIT-ROOSEVELT'],\n",
       "      dtype=object)"
      ]
     },
     "execution_count": 4,
     "metadata": {},
     "output_type": "execute_result"
    }
   ],
   "source": [
    "df_2010.station.unique()"
   ]
  },
  {
   "cell_type": "code",
   "execution_count": 5,
   "id": "1a772d7e-3da6-406f-b83a-051f84379413",
   "metadata": {},
   "outputs": [
    {
     "data": {
      "text/plain": [
       "array(['BMT', 'IND', 'IRT', nan, 'SRT', 'PTH', 'RIT'], dtype=object)"
      ]
     },
     "execution_count": 5,
     "metadata": {},
     "output_type": "execute_result"
    }
   ],
   "source": [
    "df_2010.division.unique()"
   ]
  },
  {
   "cell_type": "code",
   "execution_count": 6,
   "id": "7a77db2f-4daf-4770-8d9f-407c4bdffd25",
   "metadata": {
    "tags": []
   },
   "outputs": [
    {
     "data": {
      "text/html": [
       "<div>\n",
       "<style scoped>\n",
       "    .dataframe tbody tr th:only-of-type {\n",
       "        vertical-align: middle;\n",
       "    }\n",
       "\n",
       "    .dataframe tbody tr th {\n",
       "        vertical-align: top;\n",
       "    }\n",
       "\n",
       "    .dataframe thead th {\n",
       "        text-align: right;\n",
       "    }\n",
       "</style>\n",
       "<table border=\"1\" class=\"dataframe\">\n",
       "  <thead>\n",
       "    <tr style=\"text-align: right;\">\n",
       "      <th></th>\n",
       "      <th>ca</th>\n",
       "      <th>unit</th>\n",
       "      <th>scp</th>\n",
       "      <th>station</th>\n",
       "      <th>linename</th>\n",
       "      <th>division</th>\n",
       "      <th>desc</th>\n",
       "      <th>entries</th>\n",
       "      <th>exits</th>\n",
       "    </tr>\n",
       "    <tr>\n",
       "      <th>time</th>\n",
       "      <th></th>\n",
       "      <th></th>\n",
       "      <th></th>\n",
       "      <th></th>\n",
       "      <th></th>\n",
       "      <th></th>\n",
       "      <th></th>\n",
       "      <th></th>\n",
       "      <th></th>\n",
       "    </tr>\n",
       "  </thead>\n",
       "  <tbody>\n",
       "    <tr>\n",
       "      <th>2010-04-17 04:00:00</th>\n",
       "      <td>A021</td>\n",
       "      <td>R032</td>\n",
       "      <td>01-00-00</td>\n",
       "      <td>42 ST-TIMES SQ</td>\n",
       "      <td>1237ACENQRS</td>\n",
       "      <td>BMT</td>\n",
       "      <td>REGULAR</td>\n",
       "      <td>19250.0</td>\n",
       "      <td>18644.0</td>\n",
       "    </tr>\n",
       "    <tr>\n",
       "      <th>2010-04-17 08:00:00</th>\n",
       "      <td>A021</td>\n",
       "      <td>R032</td>\n",
       "      <td>01-00-00</td>\n",
       "      <td>42 ST-TIMES SQ</td>\n",
       "      <td>1237ACENQRS</td>\n",
       "      <td>BMT</td>\n",
       "      <td>REGULAR</td>\n",
       "      <td>19267.0</td>\n",
       "      <td>18668.0</td>\n",
       "    </tr>\n",
       "    <tr>\n",
       "      <th>2010-04-17 12:00:00</th>\n",
       "      <td>A021</td>\n",
       "      <td>R032</td>\n",
       "      <td>01-00-00</td>\n",
       "      <td>42 ST-TIMES SQ</td>\n",
       "      <td>1237ACENQRS</td>\n",
       "      <td>BMT</td>\n",
       "      <td>REGULAR</td>\n",
       "      <td>19287.0</td>\n",
       "      <td>18726.0</td>\n",
       "    </tr>\n",
       "    <tr>\n",
       "      <th>2010-04-17 16:00:00</th>\n",
       "      <td>A021</td>\n",
       "      <td>R032</td>\n",
       "      <td>01-00-00</td>\n",
       "      <td>42 ST-TIMES SQ</td>\n",
       "      <td>1237ACENQRS</td>\n",
       "      <td>BMT</td>\n",
       "      <td>REGULAR</td>\n",
       "      <td>19424.0</td>\n",
       "      <td>19129.0</td>\n",
       "    </tr>\n",
       "    <tr>\n",
       "      <th>2010-04-17 20:00:00</th>\n",
       "      <td>A021</td>\n",
       "      <td>R032</td>\n",
       "      <td>01-00-00</td>\n",
       "      <td>42 ST-TIMES SQ</td>\n",
       "      <td>1237ACENQRS</td>\n",
       "      <td>BMT</td>\n",
       "      <td>REGULAR</td>\n",
       "      <td>19674.0</td>\n",
       "      <td>19546.0</td>\n",
       "    </tr>\n",
       "  </tbody>\n",
       "</table>\n",
       "</div>"
      ],
      "text/plain": [
       "                       ca  unit       scp         station     linename  \\\n",
       "time                                                                     \n",
       "2010-04-17 04:00:00  A021  R032  01-00-00  42 ST-TIMES SQ  1237ACENQRS   \n",
       "2010-04-17 08:00:00  A021  R032  01-00-00  42 ST-TIMES SQ  1237ACENQRS   \n",
       "2010-04-17 12:00:00  A021  R032  01-00-00  42 ST-TIMES SQ  1237ACENQRS   \n",
       "2010-04-17 16:00:00  A021  R032  01-00-00  42 ST-TIMES SQ  1237ACENQRS   \n",
       "2010-04-17 20:00:00  A021  R032  01-00-00  42 ST-TIMES SQ  1237ACENQRS   \n",
       "\n",
       "                    division     desc  entries    exits  \n",
       "time                                                     \n",
       "2010-04-17 04:00:00      BMT  REGULAR  19250.0  18644.0  \n",
       "2010-04-17 08:00:00      BMT  REGULAR  19267.0  18668.0  \n",
       "2010-04-17 12:00:00      BMT  REGULAR  19287.0  18726.0  \n",
       "2010-04-17 16:00:00      BMT  REGULAR  19424.0  19129.0  \n",
       "2010-04-17 20:00:00      BMT  REGULAR  19674.0  19546.0  "
      ]
     },
     "execution_count": 6,
     "metadata": {},
     "output_type": "execute_result"
    }
   ],
   "source": [
    "df_2010.query('station == \"42 ST-TIMES SQ\" and scp == \"01-00-00\" and division == \"BMT\"', inplace=True)\n",
    "df_2010 = df_2010[~df_2010.index.duplicated(keep='first')]\n",
    "df_2010.head()"
   ]
  },
  {
   "cell_type": "code",
   "execution_count": 7,
   "id": "0ebabc13-5bc9-4cbe-8887-63ebce6f61fb",
   "metadata": {},
   "outputs": [
    {
     "data": {
      "text/plain": [
       "(array(['A021'], dtype=object),\n",
       " array(['R032'], dtype=object),\n",
       " array(['01-00-00'], dtype=object),\n",
       " array(['1237ACENQRS'], dtype=object),\n",
       " array(['BMT'], dtype=object),\n",
       " array(['REGULAR', 'AUD', 'DOOR', 'OPEN', 'RECOVR'], dtype=object))"
      ]
     },
     "execution_count": 7,
     "metadata": {},
     "output_type": "execute_result"
    }
   ],
   "source": [
    "df_2010.ca.unique(), df_2010.unit.unique(), df_2010.scp.unique(), df_2010.linename.unique(), df_2010.division.unique(), df_2010.desc.unique()"
   ]
  },
  {
   "cell_type": "code",
   "execution_count": 8,
   "id": "57d3c45c-6407-467c-9da5-ee327a30e809",
   "metadata": {},
   "outputs": [
    {
     "data": {
      "text/html": [
       "<div>\n",
       "<style scoped>\n",
       "    .dataframe tbody tr th:only-of-type {\n",
       "        vertical-align: middle;\n",
       "    }\n",
       "\n",
       "    .dataframe tbody tr th {\n",
       "        vertical-align: top;\n",
       "    }\n",
       "\n",
       "    .dataframe thead th {\n",
       "        text-align: right;\n",
       "    }\n",
       "</style>\n",
       "<table border=\"1\" class=\"dataframe\">\n",
       "  <thead>\n",
       "    <tr style=\"text-align: right;\">\n",
       "      <th></th>\n",
       "      <th>ca</th>\n",
       "      <th>unit</th>\n",
       "      <th>scp</th>\n",
       "      <th>station</th>\n",
       "      <th>linename</th>\n",
       "      <th>division</th>\n",
       "      <th>desc</th>\n",
       "      <th>entries</th>\n",
       "      <th>exits</th>\n",
       "    </tr>\n",
       "    <tr>\n",
       "      <th>time</th>\n",
       "      <th></th>\n",
       "      <th></th>\n",
       "      <th></th>\n",
       "      <th></th>\n",
       "      <th></th>\n",
       "      <th></th>\n",
       "      <th></th>\n",
       "      <th></th>\n",
       "      <th></th>\n",
       "    </tr>\n",
       "  </thead>\n",
       "  <tbody>\n",
       "    <tr>\n",
       "      <th>2010-04-17 04:00:00</th>\n",
       "      <td>A021</td>\n",
       "      <td>R032</td>\n",
       "      <td>01-00-00</td>\n",
       "      <td>42 ST-TIMES SQ</td>\n",
       "      <td>1237ACENQRS</td>\n",
       "      <td>BMT</td>\n",
       "      <td>REGULAR</td>\n",
       "      <td>19250.0</td>\n",
       "      <td>18644.0</td>\n",
       "    </tr>\n",
       "    <tr>\n",
       "      <th>2010-04-17 08:00:00</th>\n",
       "      <td>A021</td>\n",
       "      <td>R032</td>\n",
       "      <td>01-00-00</td>\n",
       "      <td>42 ST-TIMES SQ</td>\n",
       "      <td>1237ACENQRS</td>\n",
       "      <td>BMT</td>\n",
       "      <td>REGULAR</td>\n",
       "      <td>19267.0</td>\n",
       "      <td>18668.0</td>\n",
       "    </tr>\n",
       "    <tr>\n",
       "      <th>2010-04-17 12:00:00</th>\n",
       "      <td>A021</td>\n",
       "      <td>R032</td>\n",
       "      <td>01-00-00</td>\n",
       "      <td>42 ST-TIMES SQ</td>\n",
       "      <td>1237ACENQRS</td>\n",
       "      <td>BMT</td>\n",
       "      <td>REGULAR</td>\n",
       "      <td>19287.0</td>\n",
       "      <td>18726.0</td>\n",
       "    </tr>\n",
       "    <tr>\n",
       "      <th>2010-04-17 16:00:00</th>\n",
       "      <td>A021</td>\n",
       "      <td>R032</td>\n",
       "      <td>01-00-00</td>\n",
       "      <td>42 ST-TIMES SQ</td>\n",
       "      <td>1237ACENQRS</td>\n",
       "      <td>BMT</td>\n",
       "      <td>REGULAR</td>\n",
       "      <td>19424.0</td>\n",
       "      <td>19129.0</td>\n",
       "    </tr>\n",
       "    <tr>\n",
       "      <th>2010-04-17 20:00:00</th>\n",
       "      <td>A021</td>\n",
       "      <td>R032</td>\n",
       "      <td>01-00-00</td>\n",
       "      <td>42 ST-TIMES SQ</td>\n",
       "      <td>1237ACENQRS</td>\n",
       "      <td>BMT</td>\n",
       "      <td>REGULAR</td>\n",
       "      <td>19674.0</td>\n",
       "      <td>19546.0</td>\n",
       "    </tr>\n",
       "    <tr>\n",
       "      <th>...</th>\n",
       "      <td>...</td>\n",
       "      <td>...</td>\n",
       "      <td>...</td>\n",
       "      <td>...</td>\n",
       "      <td>...</td>\n",
       "      <td>...</td>\n",
       "      <td>...</td>\n",
       "      <td>...</td>\n",
       "      <td>...</td>\n",
       "    </tr>\n",
       "    <tr>\n",
       "      <th>2015-12-25 12:00:00</th>\n",
       "      <td>A021</td>\n",
       "      <td>R032</td>\n",
       "      <td>01-00-00</td>\n",
       "      <td>42 ST-TIMES SQ</td>\n",
       "      <td>ACENQRS1237</td>\n",
       "      <td>BMT</td>\n",
       "      <td>REGULAR</td>\n",
       "      <td>5341668.0</td>\n",
       "      <td>6263145.0</td>\n",
       "    </tr>\n",
       "    <tr>\n",
       "      <th>2015-12-25 16:00:00</th>\n",
       "      <td>A021</td>\n",
       "      <td>R032</td>\n",
       "      <td>01-00-00</td>\n",
       "      <td>42 ST-TIMES SQ</td>\n",
       "      <td>ACENQRS1237</td>\n",
       "      <td>BMT</td>\n",
       "      <td>REGULAR</td>\n",
       "      <td>5341719.0</td>\n",
       "      <td>6263313.0</td>\n",
       "    </tr>\n",
       "    <tr>\n",
       "      <th>2015-12-25 20:00:00</th>\n",
       "      <td>A021</td>\n",
       "      <td>R032</td>\n",
       "      <td>01-00-00</td>\n",
       "      <td>42 ST-TIMES SQ</td>\n",
       "      <td>ACENQRS1237</td>\n",
       "      <td>BMT</td>\n",
       "      <td>REGULAR</td>\n",
       "      <td>5341865.0</td>\n",
       "      <td>6263713.0</td>\n",
       "    </tr>\n",
       "    <tr>\n",
       "      <th>2015-12-26 00:00:00</th>\n",
       "      <td>A021</td>\n",
       "      <td>R032</td>\n",
       "      <td>01-00-00</td>\n",
       "      <td>42 ST-TIMES SQ</td>\n",
       "      <td>ACENQRS1237</td>\n",
       "      <td>BMT</td>\n",
       "      <td>REGULAR</td>\n",
       "      <td>5342048.0</td>\n",
       "      <td>6264318.0</td>\n",
       "    </tr>\n",
       "    <tr>\n",
       "      <th>2015-12-26 04:00:00</th>\n",
       "      <td>A021</td>\n",
       "      <td>R032</td>\n",
       "      <td>01-00-00</td>\n",
       "      <td>42 ST-TIMES SQ</td>\n",
       "      <td>ACENQRS1237</td>\n",
       "      <td>BMT</td>\n",
       "      <td>REGULAR</td>\n",
       "      <td>5342213.0</td>\n",
       "      <td>6264544.0</td>\n",
       "    </tr>\n",
       "  </tbody>\n",
       "</table>\n",
       "<p>13534 rows × 9 columns</p>\n",
       "</div>"
      ],
      "text/plain": [
       "                       ca  unit       scp         station     linename  \\\n",
       "time                                                                     \n",
       "2010-04-17 04:00:00  A021  R032  01-00-00  42 ST-TIMES SQ  1237ACENQRS   \n",
       "2010-04-17 08:00:00  A021  R032  01-00-00  42 ST-TIMES SQ  1237ACENQRS   \n",
       "2010-04-17 12:00:00  A021  R032  01-00-00  42 ST-TIMES SQ  1237ACENQRS   \n",
       "2010-04-17 16:00:00  A021  R032  01-00-00  42 ST-TIMES SQ  1237ACENQRS   \n",
       "2010-04-17 20:00:00  A021  R032  01-00-00  42 ST-TIMES SQ  1237ACENQRS   \n",
       "...                   ...   ...       ...             ...          ...   \n",
       "2015-12-25 12:00:00  A021  R032  01-00-00  42 ST-TIMES SQ  ACENQRS1237   \n",
       "2015-12-25 16:00:00  A021  R032  01-00-00  42 ST-TIMES SQ  ACENQRS1237   \n",
       "2015-12-25 20:00:00  A021  R032  01-00-00  42 ST-TIMES SQ  ACENQRS1237   \n",
       "2015-12-26 00:00:00  A021  R032  01-00-00  42 ST-TIMES SQ  ACENQRS1237   \n",
       "2015-12-26 04:00:00  A021  R032  01-00-00  42 ST-TIMES SQ  ACENQRS1237   \n",
       "\n",
       "                    division     desc    entries      exits  \n",
       "time                                                         \n",
       "2010-04-17 04:00:00      BMT  REGULAR    19250.0    18644.0  \n",
       "2010-04-17 08:00:00      BMT  REGULAR    19267.0    18668.0  \n",
       "2010-04-17 12:00:00      BMT  REGULAR    19287.0    18726.0  \n",
       "2010-04-17 16:00:00      BMT  REGULAR    19424.0    19129.0  \n",
       "2010-04-17 20:00:00      BMT  REGULAR    19674.0    19546.0  \n",
       "...                      ...      ...        ...        ...  \n",
       "2015-12-25 12:00:00      BMT  REGULAR  5341668.0  6263145.0  \n",
       "2015-12-25 16:00:00      BMT  REGULAR  5341719.0  6263313.0  \n",
       "2015-12-25 20:00:00      BMT  REGULAR  5341865.0  6263713.0  \n",
       "2015-12-26 00:00:00      BMT  REGULAR  5342048.0  6264318.0  \n",
       "2015-12-26 04:00:00      BMT  REGULAR  5342213.0  6264544.0  \n",
       "\n",
       "[13534 rows x 9 columns]"
      ]
     },
     "execution_count": 8,
     "metadata": {},
     "output_type": "execute_result"
    }
   ],
   "source": [
    "years = ['2011', '2012', '2013', '2014', '2015', '2016', '2017']\n",
    "\n",
    "for year in years:\n",
    "    df = pd.read_csv('data/'+year+'.csv')\n",
    "    df.query('station == \"42 ST-TIMES SQ\" and scp == \"01-00-00\" and division == \"BMT\"', inplace=True)\n",
    "    df = df.loc[~df.index.duplicated(keep='first')]\n",
    "    df = df.set_index('time')\n",
    "    df_2010 = pd.concat([df_2010, df])\n",
    "df = df_2010\n",
    "df"
   ]
  },
  {
   "cell_type": "code",
   "execution_count": 321,
   "id": "2047d951-af40-417d-ae2f-1354878cef10",
   "metadata": {},
   "outputs": [],
   "source": [
    "def create_features(df, label=None):\n",
    "    \"\"\"\n",
    "    Creates time series features from datetime index\n",
    "    \"\"\"\n",
    "    df.index = pd.to_datetime(df.index)\n",
    "    df['date'] = df.index\n",
    "    df['hour'] = df['date'].dt.hour\n",
    "    df['dayofweek'] = df['date'].dt.dayofweek\n",
    "    df['month'] = df['date'].dt.month\n",
    "    df['dayofmonth'] = df['date'].dt.day\n",
    "    df['desc_code'] = pd.Categorical(df.desc)\n",
    "    df['desc_code'] =  df['desc_code'].cat.codes\n",
    "    df['prev_entries'] = df['entries'].shift(1)\n",
    "    df['prev_exits'] = df['exits'].shift(1)\n",
    "    X = df[['prev_entries', 'prev_exits','desc_code', \n",
    "            'hour','dayofweek','month',\n",
    "            'dayofmonth']]\n",
    "    return X"
   ]
  },
  {
   "cell_type": "code",
   "execution_count": 325,
   "id": "0ed95eb1-fcaf-4022-9c0c-81fba1765924",
   "metadata": {},
   "outputs": [
    {
     "data": {
      "text/plain": [
       "(                     prev_entries  prev_exits  desc_code  hour  dayofweek  \\\n",
       " time                                                                        \n",
       " 2010-04-17 08:00:00       19250.0     18644.0          9     8          5   \n",
       " 2010-04-17 12:00:00       19267.0     18668.0          9    12          5   \n",
       " 2010-04-17 16:00:00       19287.0     18726.0          9    16          5   \n",
       " 2010-04-17 20:00:00       19424.0     19129.0          9    20          5   \n",
       " 2010-04-18 00:00:00       19674.0     19546.0          9     0          6   \n",
       " ...                           ...         ...        ...   ...        ...   \n",
       " 2015-12-25 12:00:00     5341644.0   6263114.0          9    12          4   \n",
       " 2015-12-25 16:00:00     5341668.0   6263145.0          9    16          4   \n",
       " 2015-12-25 20:00:00     5341719.0   6263313.0          9    20          4   \n",
       " 2015-12-26 00:00:00     5341865.0   6263713.0          9     0          5   \n",
       " 2015-12-26 04:00:00     5342048.0   6264318.0          9     4          5   \n",
       " \n",
       "                      month  dayofmonth  \n",
       " time                                    \n",
       " 2010-04-17 08:00:00      4          17  \n",
       " 2010-04-17 12:00:00      4          17  \n",
       " 2010-04-17 16:00:00      4          17  \n",
       " 2010-04-17 20:00:00      4          17  \n",
       " 2010-04-18 00:00:00      4          18  \n",
       " ...                    ...         ...  \n",
       " 2015-12-25 12:00:00     12          25  \n",
       " 2015-12-25 16:00:00     12          25  \n",
       " 2015-12-25 20:00:00     12          25  \n",
       " 2015-12-26 00:00:00     12          26  \n",
       " 2015-12-26 04:00:00     12          26  \n",
       " \n",
       " [13533 rows x 7 columns],\n",
       "                        entries\n",
       " time                          \n",
       " 2010-04-17 08:00:00    19267.0\n",
       " 2010-04-17 12:00:00    19287.0\n",
       " 2010-04-17 16:00:00    19424.0\n",
       " 2010-04-17 20:00:00    19674.0\n",
       " 2010-04-18 00:00:00    20051.0\n",
       " ...                        ...\n",
       " 2015-12-25 12:00:00  5341668.0\n",
       " 2015-12-25 16:00:00  5341719.0\n",
       " 2015-12-25 20:00:00  5341865.0\n",
       " 2015-12-26 00:00:00  5342048.0\n",
       " 2015-12-26 04:00:00  5342213.0\n",
       " \n",
       " [13533 rows x 1 columns])"
      ]
     },
     "execution_count": 325,
     "metadata": {},
     "output_type": "execute_result"
    }
   ],
   "source": [
    "X = create_features(df_2010)[1:]\n",
    "y = df_2010[['entries']][1:]\n",
    "X,y"
   ]
  },
  {
   "cell_type": "code",
   "execution_count": 326,
   "id": "20c787f0-3635-4eca-badd-89722ee6f4a6",
   "metadata": {},
   "outputs": [],
   "source": [
    "estimator = lightgbm.LGBMRegressor()"
   ]
  },
  {
   "cell_type": "code",
   "execution_count": 327,
   "id": "f2fd44ce-b2ec-4090-b247-f361e5082363",
   "metadata": {},
   "outputs": [
    {
     "data": {
      "text/plain": [
       "dict_keys(['explained_variance', 'r2', 'max_error', 'neg_median_absolute_error', 'neg_mean_absolute_error', 'neg_mean_absolute_percentage_error', 'neg_mean_squared_error', 'neg_mean_squared_log_error', 'neg_root_mean_squared_error', 'neg_mean_poisson_deviance', 'neg_mean_gamma_deviance', 'accuracy', 'top_k_accuracy', 'roc_auc', 'roc_auc_ovr', 'roc_auc_ovo', 'roc_auc_ovr_weighted', 'roc_auc_ovo_weighted', 'balanced_accuracy', 'average_precision', 'neg_log_loss', 'neg_brier_score', 'adjusted_rand_score', 'rand_score', 'homogeneity_score', 'completeness_score', 'v_measure_score', 'mutual_info_score', 'adjusted_mutual_info_score', 'normalized_mutual_info_score', 'fowlkes_mallows_score', 'precision', 'precision_macro', 'precision_micro', 'precision_samples', 'precision_weighted', 'recall', 'recall_macro', 'recall_micro', 'recall_samples', 'recall_weighted', 'f1', 'f1_macro', 'f1_micro', 'f1_samples', 'f1_weighted', 'jaccard', 'jaccard_macro', 'jaccard_micro', 'jaccard_samples', 'jaccard_weighted'])"
      ]
     },
     "execution_count": 327,
     "metadata": {},
     "output_type": "execute_result"
    }
   ],
   "source": [
    "sklearn.metrics.SCORERS.keys()"
   ]
  },
  {
   "cell_type": "code",
   "execution_count": 328,
   "id": "b5cadb43-a605-4d51-9480-ee9f7f24c837",
   "metadata": {},
   "outputs": [],
   "source": [
    "split_fraction = 0.80\n",
    "train_split = int(split_fraction * int(X.shape[0]))"
   ]
  },
  {
   "cell_type": "code",
   "execution_count": 329,
   "id": "1ef08988-b383-4219-b699-9e654d61c98d",
   "metadata": {},
   "outputs": [],
   "source": [
    "x_train = X[:train_split]\n",
    "y_train = y[:train_split]\n",
    "\n",
    "x_val = X[train_split:]\n",
    "y_val = y[train_split:]"
   ]
  },
  {
   "cell_type": "code",
   "execution_count": 330,
   "id": "3aded30f-4fe7-4eb4-a0bc-3880ff5e8ec8",
   "metadata": {},
   "outputs": [
    {
     "name": "stderr",
     "output_type": "stream",
     "text": [
      "[Parallel(n_jobs=-1)]: Using backend LokyBackend with 12 concurrent workers.\n",
      "[Parallel(n_jobs=-1)]: Done   3 out of   5 | elapsed:    2.9s remaining:    1.9s\n",
      "[Parallel(n_jobs=-1)]: Done   5 out of   5 | elapsed:    2.9s finished\n"
     ]
    }
   ],
   "source": [
    "result = cross_validate(\n",
    "    estimator,\n",
    "    x_train, y_train,\n",
    "    cv=TimeSeriesSplit(),\n",
    "    return_estimator=True,\n",
    "    verbose=2,\n",
    "    n_jobs=-1\n",
    ")"
   ]
  },
  {
   "cell_type": "code",
   "execution_count": 331,
   "id": "59799f15-8fc6-47e7-83e4-71e018044204",
   "metadata": {},
   "outputs": [
    {
     "name": "stderr",
     "output_type": "stream",
     "text": [
      "[Parallel(n_jobs=-1)]: Using backend LokyBackend with 12 concurrent workers.\n",
      "[Parallel(n_jobs=-1)]: Done   3 out of   5 | elapsed:    3.1s remaining:    2.1s\n",
      "[Parallel(n_jobs=-1)]: Done   5 out of   5 | elapsed:    3.2s finished\n"
     ]
    }
   ],
   "source": [
    "y_pred = cross_val_predict(estimator, x_val, y_val, n_jobs=-1, verbose=2)"
   ]
  },
  {
   "cell_type": "code",
   "execution_count": 332,
   "id": "b8f7262a-3b1b-4844-946c-690668bd0c51",
   "metadata": {},
   "outputs": [
    {
     "name": "stdout",
     "output_type": "stream",
     "text": [
      "0.8634935736573446\n",
      "0.02205782338770904\n"
     ]
    },
    {
     "data": {
      "image/png": "[encoded data removed]",
      "text/plain": [
       "<Figure size 1440x1440 with 1 Axes>"
      ]
     },
     "metadata": {
      "needs_background": "light"
     },
     "output_type": "display_data"
    }
   ],
   "source": [
    "def plot_results(y_val, y_pred):\n",
    "    plt.figure(figsize=(20,20))\n",
    "    ax1 = plt.plot(y_pred)\n",
    "    ax2 = plt.plot(y_val)\n",
    "    print(r2_score(y_val, y_pred))\n",
    "    print(mean_absolute_percentage_error(y_val, y_pred))\n",
    "    plt.show()\n",
    "\n",
    "plot_results(y_val.values, y_pred)"
   ]
  },
  {
   "cell_type": "code",
   "execution_count": 477,
   "id": "a959ff2a-1213-4dc3-9fa1-79e27bdd66e4",
   "metadata": {},
   "outputs": [],
   "source": [
    "past = 12\n",
    "future = 1\n",
    "learning_rate = 0.001\n",
    "batch_size = 64\n",
    "epochs = 5"
   ]
  },
  {
   "cell_type": "code",
   "execution_count": 478,
   "id": "c05b7e4c-71e9-431e-8a99-fdf627a87134",
   "metadata": {},
   "outputs": [],
   "source": [
    "features =  X.values"
   ]
  },
  {
   "cell_type": "code",
   "execution_count": 479,
   "id": "192761d6-8ba1-4e27-b1d2-03f2ccb7be25",
   "metadata": {},
   "outputs": [],
   "source": [
    "x_train = features[:train_split]\n",
    "x_val = features[train_split:]\n",
    "\n",
    "y_train = y.values[:train_split]\n",
    "y_val = y.values[train_split:]"
   ]
  },
  {
   "cell_type": "code",
   "execution_count": 480,
   "id": "0b471f35-93e3-4ae3-92f1-884cf48b0bd2",
   "metadata": {},
   "outputs": [],
   "source": [
    "start = past + future\n",
    "end = start + train_split\n",
    "\n",
    "sequence_length = past"
   ]
  },
  {
   "cell_type": "code",
   "execution_count": 481,
   "id": "0ff04caf-d578-441d-b1a6-ef8d9ce8bce1",
   "metadata": {},
   "outputs": [],
   "source": [
    "dataset_train = tf.keras.preprocessing.timeseries_dataset_from_array(\n",
    "    x_train,\n",
    "    y_train,\n",
    "    sequence_length=sequence_length,\n",
    "    sampling_rate=step,\n",
    "    batch_size=batch_size,\n",
    ")"
   ]
  },
  {
   "cell_type": "code",
   "execution_count": 482,
   "id": "eef19483-f039-4fca-8b08-7480d74e7bc0",
   "metadata": {},
   "outputs": [
    {
     "name": "stdout",
     "output_type": "stream",
     "text": [
      "Input shape: (64, 12, 7)\n",
      "Target shape: (64, 1)\n"
     ]
    }
   ],
   "source": [
    "x_end = len(y_val) - past - future\n",
    "\n",
    "label_start = train_split + past + future\n",
    "\n",
    "dataset_val = tf.keras.preprocessing.timeseries_dataset_from_array(\n",
    "    x_val,\n",
    "    y_val,\n",
    "    sequence_length=sequence_length,\n",
    "    sampling_rate=step,\n",
    "    batch_size=batch_size,\n",
    ")\n",
    "\n",
    "\n",
    "for batch in dataset_train.take(1):\n",
    "    inputs, targets = batch\n",
    "\n",
    "print(\"Input shape:\", inputs.numpy().shape)\n",
    "print(\"Target shape:\", targets.numpy().shape)\n"
   ]
  },
  {
   "cell_type": "code",
   "execution_count": 483,
   "id": "c9b9dcb1-bc78-4c27-82be-d4b0e462ac31",
   "metadata": {},
   "outputs": [
    {
     "name": "stdout",
     "output_type": "stream",
     "text": [
      "Model: \"model_39\"\n",
      "_________________________________________________________________\n",
      "Layer (type)                 Output Shape              Param #   \n",
      "=================================================================\n",
      "input_40 (InputLayer)        [(None, 12, 7)]           0         \n",
      "_________________________________________________________________\n",
      "lstm_39 (LSTM)               (None, 128)               69632     \n",
      "_________________________________________________________________\n",
      "dense_39 (Dense)             (None, 1)                 129       \n",
      "=================================================================\n",
      "Total params: 69,761\n",
      "Trainable params: 69,761\n",
      "Non-trainable params: 0\n",
      "_________________________________________________________________\n"
     ]
    }
   ],
   "source": [
    "inputs = keras.layers.Input(shape=(inputs.shape[1], inputs.shape[2]))\n",
    "lstm_out = keras.layers.LSTM(128,  activation='relu')(inputs)\n",
    "outputs = keras.layers.Dense(1)(lstm_out)\n",
    "\n",
    "model = keras.Model(inputs=inputs, outputs=outputs)\n",
    "model.compile(optimizer=keras.optimizers.Adam(learning_rate=learning_rate), loss=tf.keras.losses.MeanSquaredLogarithmicError())\n",
    "model.summary()\n"
   ]
  },
  {
   "cell_type": "code",
   "execution_count": 484,
   "id": "31e771c0-0d8c-4c1b-9f43-cdc9b5703380",
   "metadata": {},
   "outputs": [
    {
     "name": "stdout",
     "output_type": "stream",
     "text": [
      "Epoch 1/5\n",
      "169/169 [==============================] - 9s 44ms/step - loss: 28.8653 - val_loss: 3.8976e-05\n",
      "\n",
      "Epoch 00001: val_loss improved from inf to 0.00004, saving model to model_checkpoint.h5\n",
      "Epoch 2/5\n",
      "169/169 [==============================] - 7s 43ms/step - loss: 0.0552 - val_loss: 5.0644e-06\n",
      "\n",
      "Epoch 00002: val_loss improved from 0.00004 to 0.00001, saving model to model_checkpoint.h5\n",
      "Epoch 3/5\n",
      "169/169 [==============================] - 7s 42ms/step - loss: 0.0376 - val_loss: 6.7950e-05\n",
      "\n",
      "Epoch 00003: val_loss did not improve from 0.00001\n",
      "Epoch 4/5\n",
      "169/169 [==============================] - 7s 42ms/step - loss: 0.0596 - val_loss: 5.8575e-06\n",
      "\n",
      "Epoch 00004: val_loss did not improve from 0.00001\n",
      "Epoch 5/5\n",
      "169/169 [==============================] - 7s 42ms/step - loss: 0.0059 - val_loss: 2.9687e-06\n",
      "\n",
      "Epoch 00005: val_loss improved from 0.00001 to 0.00000, saving model to model_checkpoint.h5\n"
     ]
    }
   ],
   "source": [
    "path_checkpoint = \"model_checkpoint.h5\"\n",
    "es_callback = keras.callbacks.EarlyStopping(monitor=\"val_loss\", min_delta=0, patience=5)\n",
    "\n",
    "modelckpt_callback = keras.callbacks.ModelCheckpoint(\n",
    "    monitor=\"val_loss\",\n",
    "    filepath=path_checkpoint,\n",
    "    verbose=1,\n",
    "    save_weights_only=True,\n",
    "    save_best_only=True,\n",
    ")\n",
    "\n",
    "history = model.fit(\n",
    "    dataset_train,\n",
    "    epochs=epochs,\n",
    "    validation_data=dataset_val,\n",
    "    callbacks=[es_callback, modelckpt_callback],\n",
    ")"
   ]
  },
  {
   "cell_type": "markdown",
   "id": "755d1169-4726-494f-acaf-c1ae5cbd72c0",
   "metadata": {},
   "source": [
    "loss=tf.keras.losses.MeanAbsolutePercentageError()\n",
    "loss(y.values, np.array(model.predict(X))).numpy()"
   ]
  },
  {
   "cell_type": "code",
   "execution_count": 485,
   "id": "3c3d8450-2061-4974-8616-edbf42047704",
   "metadata": {},
   "outputs": [
    {
     "name": "stdout",
     "output_type": "stream",
     "text": [
      "0.9994024065708085\n",
      "0.0016128465891477354\n"
     ]
    },
    {
     "data": {
      "image/png": "[encoded data removed]",
      "text/plain": [
       "<Figure size 1440x1440 with 1 Axes>"
      ]
     },
     "metadata": {
      "needs_background": "light"
     },
     "output_type": "display_data"
    }
   ],
   "source": [
    "y_pred = model.predict(dataset_val)\n",
    "plot_results(y_val[:len(y_pred)], y_pred)"
   ]
  },
  {
   "cell_type": "code",
   "execution_count": null,
   "id": "155c8ace-c83c-450e-b1a1-64c9769e78b3",
   "metadata": {},
   "outputs": [],
   "source": []
  }
 ],
 "metadata": {
  "kernelspec": {
   "display_name": "Python 3",
   "language": "python",
   "name": "python3"
  },
  "language_info": {
   "codemirror_mode": {
    "name": "ipython",
    "version": 3
   },
   "file_extension": ".py",
   "mimetype": "text/x-python",
   "name": "python",
   "nbconvert_exporter": "python",
   "pygments_lexer": "ipython3",
   "version": "3.8.5"
  }
 },
 "nbformat": 4,
 "nbformat_minor": 5
}
