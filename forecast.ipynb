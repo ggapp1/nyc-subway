{
 "cells": [
  {
   "cell_type": "markdown",
   "id": "61d2f403",
   "metadata": {},
   "source": [
    "## Predicting NYC subway usage\n",
    "\n",
    "This notebook explores a NYC subway dataset, and tries to forecast the number of people that uses the subway."
   ]
  },
  {
   "cell_type": "code",
   "execution_count": 1,
   "id": "bc6f0359-78c5-4e41-ab29-5b6ddc059f8e",
   "metadata": {},
   "outputs": [],
   "source": [
    "import pandas as pd\n",
    "import keras\n",
    "import numpy as np\n",
    "import matplotlib.pyplot as plt\n",
    "import tensorflow as tf\n",
    "import sklearn\n",
    "\n",
    "from sklearn.model_selection import TimeSeriesSplit\n",
    "from sklearn.model_selection import cross_validate, cross_val_predict\n",
    "from sklearn.metrics import r2_score,  mean_absolute_percentage_error\n",
    "from sklearn.linear_model import LinearRegression"
   ]
  },
  {
   "cell_type": "markdown",
   "id": "499cab95",
   "metadata": {},
   "source": [
    "First, we'll explore the dataset, using the 2010 file as reference. As we can see below, the info is grouped by, among others, the stations. We'll focus on the biggest station of NY, the Times Square - 42nd Street."
   ]
  },
  {
   "cell_type": "code",
   "execution_count": 2,
   "id": "9f704712-dfdd-4509-b37b-2cebca0d2920",
   "metadata": {},
   "outputs": [],
   "source": [
    "df_2010 = pd.read_csv('data/2010.csv')"
   ]
  },
  {
   "cell_type": "markdown",
   "id": "ae7031b7",
   "metadata": {},
   "source": [
    "Brief description of the fields:\n",
    "- CA = Control Area (A002) \n",
    "- UNIT = Remote Unit for a station (R051) \n",
    "- SCP = Subunit Channel Position represents an specific address for a device (02-00-00) \n",
    "- STATION = Represents the station name the device is located at \n",
    "- LINENAME = Represents all train lines that can be boarded at this station Normally lines are represented by one character. \n",
    "- DATE = Represents the date (MM-DD-YY) \n",
    "- TIME = Represents the time (hhmmss) for a scheduled audit event \n",
    "- DECS = Represent the REGULAR scheduled audit event (Normally occurs every 4 hours) 1. Audits may occur more that 4 hours due to planning, or troubleshooting activities. 2. Additionally, there may be a RECOVR AUD entry. This refers to a missed audit that was recovered. \n",
    "- ENTRIES = The comulative entry register value for a device \n",
    "- EXITS = The cumulative exit register value for a device"
   ]
  },
  {
   "cell_type": "code",
   "execution_count": 3,
   "id": "a817adbe-2741-4896-92a5-cf018aa5216d",
   "metadata": {},
   "outputs": [
    {
     "data": {
      "text/html": [
       "<div>\n",
       "<style scoped>\n",
       "    .dataframe tbody tr th:only-of-type {\n",
       "        vertical-align: middle;\n",
       "    }\n",
       "\n",
       "    .dataframe tbody tr th {\n",
       "        vertical-align: top;\n",
       "    }\n",
       "\n",
       "    .dataframe thead th {\n",
       "        text-align: right;\n",
       "    }\n",
       "</style>\n",
       "<table border=\"1\" class=\"dataframe\">\n",
       "  <thead>\n",
       "    <tr style=\"text-align: right;\">\n",
       "      <th></th>\n",
       "      <th>ca</th>\n",
       "      <th>unit</th>\n",
       "      <th>scp</th>\n",
       "      <th>station</th>\n",
       "      <th>linename</th>\n",
       "      <th>division</th>\n",
       "      <th>desc</th>\n",
       "      <th>entries</th>\n",
       "      <th>exits</th>\n",
       "    </tr>\n",
       "    <tr>\n",
       "      <th>time</th>\n",
       "      <th></th>\n",
       "      <th></th>\n",
       "      <th></th>\n",
       "      <th></th>\n",
       "      <th></th>\n",
       "      <th></th>\n",
       "      <th></th>\n",
       "      <th></th>\n",
       "      <th></th>\n",
       "    </tr>\n",
       "  </thead>\n",
       "  <tbody>\n",
       "    <tr>\n",
       "      <th>2010-04-17 04:00:00</th>\n",
       "      <td>A002</td>\n",
       "      <td>R051</td>\n",
       "      <td>02-00-00</td>\n",
       "      <td>LEXINGTON AVE</td>\n",
       "      <td>456NQR</td>\n",
       "      <td>BMT</td>\n",
       "      <td>REGULAR</td>\n",
       "      <td>2704717.0</td>\n",
       "      <td>928793.0</td>\n",
       "    </tr>\n",
       "    <tr>\n",
       "      <th>2010-04-17 04:00:00</th>\n",
       "      <td>A002</td>\n",
       "      <td>R051</td>\n",
       "      <td>02-00-01</td>\n",
       "      <td>LEXINGTON AVE</td>\n",
       "      <td>456NQR</td>\n",
       "      <td>BMT</td>\n",
       "      <td>REGULAR</td>\n",
       "      <td>2697632.0</td>\n",
       "      <td>566683.0</td>\n",
       "    </tr>\n",
       "    <tr>\n",
       "      <th>2010-04-17 04:00:00</th>\n",
       "      <td>A002</td>\n",
       "      <td>R051</td>\n",
       "      <td>02-03-00</td>\n",
       "      <td>LEXINGTON AVE</td>\n",
       "      <td>456NQR</td>\n",
       "      <td>BMT</td>\n",
       "      <td>REGULAR</td>\n",
       "      <td>1127722.0</td>\n",
       "      <td>3943492.0</td>\n",
       "    </tr>\n",
       "    <tr>\n",
       "      <th>2010-04-17 04:00:00</th>\n",
       "      <td>A002</td>\n",
       "      <td>R051</td>\n",
       "      <td>02-03-01</td>\n",
       "      <td>LEXINGTON AVE</td>\n",
       "      <td>456NQR</td>\n",
       "      <td>BMT</td>\n",
       "      <td>REGULAR</td>\n",
       "      <td>2425570.0</td>\n",
       "      <td>3733289.0</td>\n",
       "    </tr>\n",
       "    <tr>\n",
       "      <th>2010-04-17 04:00:00</th>\n",
       "      <td>A002</td>\n",
       "      <td>R051</td>\n",
       "      <td>02-03-02</td>\n",
       "      <td>LEXINGTON AVE</td>\n",
       "      <td>456NQR</td>\n",
       "      <td>BMT</td>\n",
       "      <td>REGULAR</td>\n",
       "      <td>2214633.0</td>\n",
       "      <td>3021589.0</td>\n",
       "    </tr>\n",
       "  </tbody>\n",
       "</table>\n",
       "</div>"
      ],
      "text/plain": [
       "                       ca  unit       scp        station linename division  \\\n",
       "time                                                                         \n",
       "2010-04-17 04:00:00  A002  R051  02-00-00  LEXINGTON AVE   456NQR      BMT   \n",
       "2010-04-17 04:00:00  A002  R051  02-00-01  LEXINGTON AVE   456NQR      BMT   \n",
       "2010-04-17 04:00:00  A002  R051  02-03-00  LEXINGTON AVE   456NQR      BMT   \n",
       "2010-04-17 04:00:00  A002  R051  02-03-01  LEXINGTON AVE   456NQR      BMT   \n",
       "2010-04-17 04:00:00  A002  R051  02-03-02  LEXINGTON AVE   456NQR      BMT   \n",
       "\n",
       "                        desc    entries      exits  \n",
       "time                                                \n",
       "2010-04-17 04:00:00  REGULAR  2704717.0   928793.0  \n",
       "2010-04-17 04:00:00  REGULAR  2697632.0   566683.0  \n",
       "2010-04-17 04:00:00  REGULAR  1127722.0  3943492.0  \n",
       "2010-04-17 04:00:00  REGULAR  2425570.0  3733289.0  \n",
       "2010-04-17 04:00:00  REGULAR  2214633.0  3021589.0  "
      ]
     },
     "execution_count": 3,
     "metadata": {},
     "output_type": "execute_result"
    }
   ],
   "source": [
    "df_2010.set_index('time', inplace=True)\n",
    "df_2010.head()"
   ]
  },
  {
   "cell_type": "markdown",
   "id": "a020fd65",
   "metadata": {},
   "source": [
    "There are 383 stations in the dataset"
   ]
  },
  {
   "cell_type": "code",
   "execution_count": 4,
   "id": "5272b128-19a5-4334-a993-e618e1012daf",
   "metadata": {},
   "outputs": [
    {
     "data": {
      "text/plain": [
       "383"
      ]
     },
     "execution_count": 4,
     "metadata": {},
     "output_type": "execute_result"
    }
   ],
   "source": [
    "len(df_2010.station.unique())"
   ]
  },
  {
   "cell_type": "code",
   "execution_count": 5,
   "id": "226ce0ca",
   "metadata": {},
   "outputs": [
    {
     "data": {
      "text/html": [
       "<div>\n",
       "<style scoped>\n",
       "    .dataframe tbody tr th:only-of-type {\n",
       "        vertical-align: middle;\n",
       "    }\n",
       "\n",
       "    .dataframe tbody tr th {\n",
       "        vertical-align: top;\n",
       "    }\n",
       "\n",
       "    .dataframe thead th {\n",
       "        text-align: right;\n",
       "    }\n",
       "</style>\n",
       "<table border=\"1\" class=\"dataframe\">\n",
       "  <thead>\n",
       "    <tr style=\"text-align: right;\">\n",
       "      <th></th>\n",
       "      <th>ca</th>\n",
       "      <th>unit</th>\n",
       "      <th>scp</th>\n",
       "      <th>station</th>\n",
       "      <th>linename</th>\n",
       "      <th>division</th>\n",
       "      <th>desc</th>\n",
       "      <th>entries</th>\n",
       "      <th>exits</th>\n",
       "    </tr>\n",
       "    <tr>\n",
       "      <th>time</th>\n",
       "      <th></th>\n",
       "      <th></th>\n",
       "      <th></th>\n",
       "      <th></th>\n",
       "      <th></th>\n",
       "      <th></th>\n",
       "      <th></th>\n",
       "      <th></th>\n",
       "      <th></th>\n",
       "    </tr>\n",
       "  </thead>\n",
       "  <tbody>\n",
       "    <tr>\n",
       "      <th>2010-04-17 04:00:00</th>\n",
       "      <td>A021</td>\n",
       "      <td>R032</td>\n",
       "      <td>01-00-00</td>\n",
       "      <td>42 ST-TIMES SQ</td>\n",
       "      <td>1237ACENQRS</td>\n",
       "      <td>BMT</td>\n",
       "      <td>REGULAR</td>\n",
       "      <td>19250.0</td>\n",
       "      <td>18644.0</td>\n",
       "    </tr>\n",
       "    <tr>\n",
       "      <th>2010-04-17 04:00:00</th>\n",
       "      <td>A021</td>\n",
       "      <td>R032</td>\n",
       "      <td>01-00-02</td>\n",
       "      <td>42 ST-TIMES SQ</td>\n",
       "      <td>1237ACENQRS</td>\n",
       "      <td>BMT</td>\n",
       "      <td>REGULAR</td>\n",
       "      <td>689412.0</td>\n",
       "      <td>614614.0</td>\n",
       "    </tr>\n",
       "    <tr>\n",
       "      <th>2010-04-17 04:00:00</th>\n",
       "      <td>A021</td>\n",
       "      <td>R032</td>\n",
       "      <td>01-00-03</td>\n",
       "      <td>42 ST-TIMES SQ</td>\n",
       "      <td>1237ACENQRS</td>\n",
       "      <td>BMT</td>\n",
       "      <td>REGULAR</td>\n",
       "      <td>7146.0</td>\n",
       "      <td>2702.0</td>\n",
       "    </tr>\n",
       "    <tr>\n",
       "      <th>2010-04-17 04:00:00</th>\n",
       "      <td>A021</td>\n",
       "      <td>R032</td>\n",
       "      <td>01-00-04</td>\n",
       "      <td>42 ST-TIMES SQ</td>\n",
       "      <td>1237ACENQRS</td>\n",
       "      <td>BMT</td>\n",
       "      <td>REGULAR</td>\n",
       "      <td>2679472.0</td>\n",
       "      <td>4261965.0</td>\n",
       "    </tr>\n",
       "    <tr>\n",
       "      <th>2010-04-17 04:00:00</th>\n",
       "      <td>A021</td>\n",
       "      <td>R032</td>\n",
       "      <td>01-00-05</td>\n",
       "      <td>42 ST-TIMES SQ</td>\n",
       "      <td>1237ACENQRS</td>\n",
       "      <td>BMT</td>\n",
       "      <td>REGULAR</td>\n",
       "      <td>553366.0</td>\n",
       "      <td>1786666.0</td>\n",
       "    </tr>\n",
       "  </tbody>\n",
       "</table>\n",
       "</div>"
      ],
      "text/plain": [
       "                       ca  unit       scp         station     linename  \\\n",
       "time                                                                     \n",
       "2010-04-17 04:00:00  A021  R032  01-00-00  42 ST-TIMES SQ  1237ACENQRS   \n",
       "2010-04-17 04:00:00  A021  R032  01-00-02  42 ST-TIMES SQ  1237ACENQRS   \n",
       "2010-04-17 04:00:00  A021  R032  01-00-03  42 ST-TIMES SQ  1237ACENQRS   \n",
       "2010-04-17 04:00:00  A021  R032  01-00-04  42 ST-TIMES SQ  1237ACENQRS   \n",
       "2010-04-17 04:00:00  A021  R032  01-00-05  42 ST-TIMES SQ  1237ACENQRS   \n",
       "\n",
       "                    division     desc    entries      exits  \n",
       "time                                                         \n",
       "2010-04-17 04:00:00      BMT  REGULAR    19250.0    18644.0  \n",
       "2010-04-17 04:00:00      BMT  REGULAR   689412.0   614614.0  \n",
       "2010-04-17 04:00:00      BMT  REGULAR     7146.0     2702.0  \n",
       "2010-04-17 04:00:00      BMT  REGULAR  2679472.0  4261965.0  \n",
       "2010-04-17 04:00:00      BMT  REGULAR   553366.0  1786666.0  "
      ]
     },
     "execution_count": 5,
     "metadata": {},
     "output_type": "execute_result"
    }
   ],
   "source": [
    "df_2010.query('station == \"42 ST-TIMES SQ\"', inplace=True)\n",
    "df_2010.head()"
   ]
  },
  {
   "cell_type": "markdown",
   "id": "f56790cf",
   "metadata": {},
   "source": [
    "Now, we need to focus in one turnstile (SCP) and one division in order to have a timeseries without duplicated timestamps."
   ]
  },
  {
   "cell_type": "code",
   "execution_count": 6,
   "id": "1a772d7e-3da6-406f-b83a-051f84379413",
   "metadata": {},
   "outputs": [
    {
     "data": {
      "text/plain": [
       "(array(['BMT', 'IRT'], dtype=object),\n",
       " array(['01-00-00', '01-00-02', '01-00-03', '01-00-04', '01-00-05',\n",
       "        '01-00-06', '01-00-07', '02-00-00', '02-00-01', '02-00-02',\n",
       "        '02-00-03', '02-03-00', '02-03-01', '02-03-02', '02-03-03',\n",
       "        '00-00-00', '00-00-01', '00-00-02', '00-00-03', '00-00-04',\n",
       "        '00-06-00', '00-06-01', '00-06-02', '04-00-00', '04-00-01',\n",
       "        '04-00-02', '04-00-03', '04-00-04', '04-00-05', '04-00-06',\n",
       "        '04-05-00', '04-05-01', '01-00-01', '01-03-00', '01-03-01',\n",
       "        '01-03-02', '01-03-03', '01-06-00', '01-06-01', '00-00-05',\n",
       "        '00-00-06', '00-00-07', '00-00-08'], dtype=object))"
      ]
     },
     "execution_count": 6,
     "metadata": {},
     "output_type": "execute_result"
    }
   ],
   "source": [
    "df_2010.division.unique(), df_2010.scp.unique()"
   ]
  },
  {
   "cell_type": "code",
   "execution_count": 7,
   "id": "7a77db2f-4daf-4770-8d9f-407c4bdffd25",
   "metadata": {
    "tags": []
   },
   "outputs": [
    {
     "data": {
      "text/html": [
       "<div>\n",
       "<style scoped>\n",
       "    .dataframe tbody tr th:only-of-type {\n",
       "        vertical-align: middle;\n",
       "    }\n",
       "\n",
       "    .dataframe tbody tr th {\n",
       "        vertical-align: top;\n",
       "    }\n",
       "\n",
       "    .dataframe thead th {\n",
       "        text-align: right;\n",
       "    }\n",
       "</style>\n",
       "<table border=\"1\" class=\"dataframe\">\n",
       "  <thead>\n",
       "    <tr style=\"text-align: right;\">\n",
       "      <th></th>\n",
       "      <th>ca</th>\n",
       "      <th>unit</th>\n",
       "      <th>scp</th>\n",
       "      <th>station</th>\n",
       "      <th>linename</th>\n",
       "      <th>division</th>\n",
       "      <th>desc</th>\n",
       "      <th>entries</th>\n",
       "      <th>exits</th>\n",
       "    </tr>\n",
       "    <tr>\n",
       "      <th>time</th>\n",
       "      <th></th>\n",
       "      <th></th>\n",
       "      <th></th>\n",
       "      <th></th>\n",
       "      <th></th>\n",
       "      <th></th>\n",
       "      <th></th>\n",
       "      <th></th>\n",
       "      <th></th>\n",
       "    </tr>\n",
       "  </thead>\n",
       "  <tbody>\n",
       "    <tr>\n",
       "      <th>2010-05-28 17:15:57</th>\n",
       "      <td>A021</td>\n",
       "      <td>R032</td>\n",
       "      <td>01-00-00</td>\n",
       "      <td>42 ST-TIMES SQ</td>\n",
       "      <td>1237ACENQRS</td>\n",
       "      <td>BMT</td>\n",
       "      <td>DOOR</td>\n",
       "      <td>126230.0</td>\n",
       "      <td>133418.0</td>\n",
       "    </tr>\n",
       "    <tr>\n",
       "      <th>2010-05-28 17:43:20</th>\n",
       "      <td>A021</td>\n",
       "      <td>R032</td>\n",
       "      <td>01-00-00</td>\n",
       "      <td>42 ST-TIMES SQ</td>\n",
       "      <td>1237ACENQRS</td>\n",
       "      <td>BMT</td>\n",
       "      <td>DOOR</td>\n",
       "      <td>126230.0</td>\n",
       "      <td>133418.0</td>\n",
       "    </tr>\n",
       "    <tr>\n",
       "      <th>2010-09-17 11:44:53</th>\n",
       "      <td>A021</td>\n",
       "      <td>R032</td>\n",
       "      <td>01-00-00</td>\n",
       "      <td>42 ST-TIMES SQ</td>\n",
       "      <td>1237ACENQRS</td>\n",
       "      <td>BMT</td>\n",
       "      <td>DOOR</td>\n",
       "      <td>395852.0</td>\n",
       "      <td>445275.0</td>\n",
       "    </tr>\n",
       "    <tr>\n",
       "      <th>2010-09-17 11:52:27</th>\n",
       "      <td>A021</td>\n",
       "      <td>R032</td>\n",
       "      <td>01-00-00</td>\n",
       "      <td>42 ST-TIMES SQ</td>\n",
       "      <td>1237ACENQRS</td>\n",
       "      <td>BMT</td>\n",
       "      <td>DOOR</td>\n",
       "      <td>395852.0</td>\n",
       "      <td>445275.0</td>\n",
       "    </tr>\n",
       "    <tr>\n",
       "      <th>2010-10-08 08:00:00</th>\n",
       "      <td>A021</td>\n",
       "      <td>R032</td>\n",
       "      <td>01-00-00</td>\n",
       "      <td>42 ST-TIMES SQ</td>\n",
       "      <td>1237ACENQRS</td>\n",
       "      <td>BMT</td>\n",
       "      <td>REGULAR</td>\n",
       "      <td>448410.0</td>\n",
       "      <td>505373.0</td>\n",
       "    </tr>\n",
       "    <tr>\n",
       "      <th>2010-10-08 08:00:00</th>\n",
       "      <td>A021</td>\n",
       "      <td>R032</td>\n",
       "      <td>01-00-00</td>\n",
       "      <td>42 ST-TIMES SQ</td>\n",
       "      <td>1237ACENQRS</td>\n",
       "      <td>BMT</td>\n",
       "      <td>REGULAR</td>\n",
       "      <td>448410.0</td>\n",
       "      <td>505373.0</td>\n",
       "    </tr>\n",
       "    <tr>\n",
       "      <th>2010-10-18 14:38:39</th>\n",
       "      <td>A021</td>\n",
       "      <td>R032</td>\n",
       "      <td>01-00-00</td>\n",
       "      <td>42 ST-TIMES SQ</td>\n",
       "      <td>1237ACENQRS</td>\n",
       "      <td>BMT</td>\n",
       "      <td>DOOR</td>\n",
       "      <td>471514.0</td>\n",
       "      <td>534807.0</td>\n",
       "    </tr>\n",
       "    <tr>\n",
       "      <th>2010-10-18 14:46:47</th>\n",
       "      <td>A021</td>\n",
       "      <td>R032</td>\n",
       "      <td>01-00-00</td>\n",
       "      <td>42 ST-TIMES SQ</td>\n",
       "      <td>1237ACENQRS</td>\n",
       "      <td>BMT</td>\n",
       "      <td>DOOR</td>\n",
       "      <td>471514.0</td>\n",
       "      <td>534807.0</td>\n",
       "    </tr>\n",
       "    <tr>\n",
       "      <th>2010-10-29 17:09:16</th>\n",
       "      <td>A021</td>\n",
       "      <td>R032</td>\n",
       "      <td>01-00-00</td>\n",
       "      <td>42 ST-TIMES SQ</td>\n",
       "      <td>1237ACENQRS</td>\n",
       "      <td>BMT</td>\n",
       "      <td>DOOR</td>\n",
       "      <td>502996.0</td>\n",
       "      <td>570830.0</td>\n",
       "    </tr>\n",
       "    <tr>\n",
       "      <th>2010-10-29 17:09:26</th>\n",
       "      <td>A021</td>\n",
       "      <td>R032</td>\n",
       "      <td>01-00-00</td>\n",
       "      <td>42 ST-TIMES SQ</td>\n",
       "      <td>1237ACENQRS</td>\n",
       "      <td>BMT</td>\n",
       "      <td>OPEN</td>\n",
       "      <td>502996.0</td>\n",
       "      <td>570830.0</td>\n",
       "    </tr>\n",
       "    <tr>\n",
       "      <th>2010-10-29 17:10:57</th>\n",
       "      <td>A021</td>\n",
       "      <td>R032</td>\n",
       "      <td>01-00-00</td>\n",
       "      <td>42 ST-TIMES SQ</td>\n",
       "      <td>1237ACENQRS</td>\n",
       "      <td>BMT</td>\n",
       "      <td>DOOR</td>\n",
       "      <td>502996.0</td>\n",
       "      <td>570830.0</td>\n",
       "    </tr>\n",
       "    <tr>\n",
       "      <th>2010-10-29 17:12:05</th>\n",
       "      <td>A021</td>\n",
       "      <td>R032</td>\n",
       "      <td>01-00-00</td>\n",
       "      <td>42 ST-TIMES SQ</td>\n",
       "      <td>1237ACENQRS</td>\n",
       "      <td>BMT</td>\n",
       "      <td>OPEN</td>\n",
       "      <td>502996.0</td>\n",
       "      <td>570830.0</td>\n",
       "    </tr>\n",
       "    <tr>\n",
       "      <th>2010-10-29 17:12:06</th>\n",
       "      <td>A021</td>\n",
       "      <td>R032</td>\n",
       "      <td>01-00-00</td>\n",
       "      <td>42 ST-TIMES SQ</td>\n",
       "      <td>1237ACENQRS</td>\n",
       "      <td>BMT</td>\n",
       "      <td>DOOR</td>\n",
       "      <td>502996.0</td>\n",
       "      <td>570830.0</td>\n",
       "    </tr>\n",
       "    <tr>\n",
       "      <th>2010-10-29 17:29:18</th>\n",
       "      <td>A021</td>\n",
       "      <td>R032</td>\n",
       "      <td>01-00-00</td>\n",
       "      <td>42 ST-TIMES SQ</td>\n",
       "      <td>1237ACENQRS</td>\n",
       "      <td>BMT</td>\n",
       "      <td>OPEN</td>\n",
       "      <td>502996.0</td>\n",
       "      <td>570830.0</td>\n",
       "    </tr>\n",
       "    <tr>\n",
       "      <th>2010-11-06 12:36:59</th>\n",
       "      <td>A021</td>\n",
       "      <td>R032</td>\n",
       "      <td>01-00-00</td>\n",
       "      <td>42 ST-TIMES SQ</td>\n",
       "      <td>1237ACENQRS</td>\n",
       "      <td>BMT</td>\n",
       "      <td>DOOR</td>\n",
       "      <td>522670.0</td>\n",
       "      <td>593984.0</td>\n",
       "    </tr>\n",
       "    <tr>\n",
       "      <th>2010-11-06 12:45:10</th>\n",
       "      <td>A021</td>\n",
       "      <td>R032</td>\n",
       "      <td>01-00-00</td>\n",
       "      <td>42 ST-TIMES SQ</td>\n",
       "      <td>1237ACENQRS</td>\n",
       "      <td>BMT</td>\n",
       "      <td>DOOR</td>\n",
       "      <td>522670.0</td>\n",
       "      <td>593984.0</td>\n",
       "    </tr>\n",
       "    <tr>\n",
       "      <th>2010-11-16 14:15:46</th>\n",
       "      <td>A021</td>\n",
       "      <td>R032</td>\n",
       "      <td>01-00-00</td>\n",
       "      <td>42 ST-TIMES SQ</td>\n",
       "      <td>1237ACENQRS</td>\n",
       "      <td>BMT</td>\n",
       "      <td>DOOR</td>\n",
       "      <td>545874.0</td>\n",
       "      <td>621977.0</td>\n",
       "    </tr>\n",
       "    <tr>\n",
       "      <th>2010-11-16 14:23:30</th>\n",
       "      <td>A021</td>\n",
       "      <td>R032</td>\n",
       "      <td>01-00-00</td>\n",
       "      <td>42 ST-TIMES SQ</td>\n",
       "      <td>1237ACENQRS</td>\n",
       "      <td>BMT</td>\n",
       "      <td>DOOR</td>\n",
       "      <td>545874.0</td>\n",
       "      <td>621977.0</td>\n",
       "    </tr>\n",
       "    <tr>\n",
       "      <th>2010-11-16 14:30:10</th>\n",
       "      <td>A021</td>\n",
       "      <td>R032</td>\n",
       "      <td>01-00-00</td>\n",
       "      <td>42 ST-TIMES SQ</td>\n",
       "      <td>1237ACENQRS</td>\n",
       "      <td>BMT</td>\n",
       "      <td>OPEN</td>\n",
       "      <td>545885.0</td>\n",
       "      <td>621981.0</td>\n",
       "    </tr>\n",
       "    <tr>\n",
       "      <th>2010-11-16 14:38:04</th>\n",
       "      <td>A021</td>\n",
       "      <td>R032</td>\n",
       "      <td>01-00-00</td>\n",
       "      <td>42 ST-TIMES SQ</td>\n",
       "      <td>1237ACENQRS</td>\n",
       "      <td>BMT</td>\n",
       "      <td>OPEN</td>\n",
       "      <td>545885.0</td>\n",
       "      <td>621981.0</td>\n",
       "    </tr>\n",
       "  </tbody>\n",
       "</table>\n",
       "</div>"
      ],
      "text/plain": [
       "                       ca  unit       scp         station     linename  \\\n",
       "time                                                                     \n",
       "2010-05-28 17:15:57  A021  R032  01-00-00  42 ST-TIMES SQ  1237ACENQRS   \n",
       "2010-05-28 17:43:20  A021  R032  01-00-00  42 ST-TIMES SQ  1237ACENQRS   \n",
       "2010-09-17 11:44:53  A021  R032  01-00-00  42 ST-TIMES SQ  1237ACENQRS   \n",
       "2010-09-17 11:52:27  A021  R032  01-00-00  42 ST-TIMES SQ  1237ACENQRS   \n",
       "2010-10-08 08:00:00  A021  R032  01-00-00  42 ST-TIMES SQ  1237ACENQRS   \n",
       "2010-10-08 08:00:00  A021  R032  01-00-00  42 ST-TIMES SQ  1237ACENQRS   \n",
       "2010-10-18 14:38:39  A021  R032  01-00-00  42 ST-TIMES SQ  1237ACENQRS   \n",
       "2010-10-18 14:46:47  A021  R032  01-00-00  42 ST-TIMES SQ  1237ACENQRS   \n",
       "2010-10-29 17:09:16  A021  R032  01-00-00  42 ST-TIMES SQ  1237ACENQRS   \n",
       "2010-10-29 17:09:26  A021  R032  01-00-00  42 ST-TIMES SQ  1237ACENQRS   \n",
       "2010-10-29 17:10:57  A021  R032  01-00-00  42 ST-TIMES SQ  1237ACENQRS   \n",
       "2010-10-29 17:12:05  A021  R032  01-00-00  42 ST-TIMES SQ  1237ACENQRS   \n",
       "2010-10-29 17:12:06  A021  R032  01-00-00  42 ST-TIMES SQ  1237ACENQRS   \n",
       "2010-10-29 17:29:18  A021  R032  01-00-00  42 ST-TIMES SQ  1237ACENQRS   \n",
       "2010-11-06 12:36:59  A021  R032  01-00-00  42 ST-TIMES SQ  1237ACENQRS   \n",
       "2010-11-06 12:45:10  A021  R032  01-00-00  42 ST-TIMES SQ  1237ACENQRS   \n",
       "2010-11-16 14:15:46  A021  R032  01-00-00  42 ST-TIMES SQ  1237ACENQRS   \n",
       "2010-11-16 14:23:30  A021  R032  01-00-00  42 ST-TIMES SQ  1237ACENQRS   \n",
       "2010-11-16 14:30:10  A021  R032  01-00-00  42 ST-TIMES SQ  1237ACENQRS   \n",
       "2010-11-16 14:38:04  A021  R032  01-00-00  42 ST-TIMES SQ  1237ACENQRS   \n",
       "\n",
       "                    division     desc   entries     exits  \n",
       "time                                                       \n",
       "2010-05-28 17:15:57      BMT     DOOR  126230.0  133418.0  \n",
       "2010-05-28 17:43:20      BMT     DOOR  126230.0  133418.0  \n",
       "2010-09-17 11:44:53      BMT     DOOR  395852.0  445275.0  \n",
       "2010-09-17 11:52:27      BMT     DOOR  395852.0  445275.0  \n",
       "2010-10-08 08:00:00      BMT  REGULAR  448410.0  505373.0  \n",
       "2010-10-08 08:00:00      BMT  REGULAR  448410.0  505373.0  \n",
       "2010-10-18 14:38:39      BMT     DOOR  471514.0  534807.0  \n",
       "2010-10-18 14:46:47      BMT     DOOR  471514.0  534807.0  \n",
       "2010-10-29 17:09:16      BMT     DOOR  502996.0  570830.0  \n",
       "2010-10-29 17:09:26      BMT     OPEN  502996.0  570830.0  \n",
       "2010-10-29 17:10:57      BMT     DOOR  502996.0  570830.0  \n",
       "2010-10-29 17:12:05      BMT     OPEN  502996.0  570830.0  \n",
       "2010-10-29 17:12:06      BMT     DOOR  502996.0  570830.0  \n",
       "2010-10-29 17:29:18      BMT     OPEN  502996.0  570830.0  \n",
       "2010-11-06 12:36:59      BMT     DOOR  522670.0  593984.0  \n",
       "2010-11-06 12:45:10      BMT     DOOR  522670.0  593984.0  \n",
       "2010-11-16 14:15:46      BMT     DOOR  545874.0  621977.0  \n",
       "2010-11-16 14:23:30      BMT     DOOR  545874.0  621977.0  \n",
       "2010-11-16 14:30:10      BMT     OPEN  545885.0  621981.0  \n",
       "2010-11-16 14:38:04      BMT     OPEN  545885.0  621981.0  "
      ]
     },
     "execution_count": 7,
     "metadata": {},
     "output_type": "execute_result"
    }
   ],
   "source": [
    "df_2010.query('station == \"42 ST-TIMES SQ\" and scp == \"01-00-00\" and division == \"BMT\"', inplace=True)\n",
    "df_2010[df_2010.duplicated(keep=False)]"
   ]
  },
  {
   "cell_type": "markdown",
   "id": "51d14f2a",
   "metadata": {},
   "source": [
    "Even after filtering by scp and division, there were a few duplicates left. We'll remove them and continue"
   ]
  },
  {
   "cell_type": "code",
   "execution_count": 8,
   "id": "3d6b5af0",
   "metadata": {},
   "outputs": [],
   "source": [
    "df_2010 = df_2010[~df_2010.index.duplicated(keep='first')]"
   ]
  },
  {
   "cell_type": "code",
   "execution_count": 9,
   "id": "0ebabc13-5bc9-4cbe-8887-63ebce6f61fb",
   "metadata": {},
   "outputs": [
    {
     "data": {
      "text/plain": [
       "(array(['A021'], dtype=object),\n",
       " array(['R032'], dtype=object),\n",
       " array(['01-00-00'], dtype=object),\n",
       " array(['1237ACENQRS'], dtype=object),\n",
       " array(['BMT'], dtype=object),\n",
       " array(['REGULAR', 'AUD', 'DOOR', 'OPEN', 'RECOVR'], dtype=object))"
      ]
     },
     "execution_count": 9,
     "metadata": {},
     "output_type": "execute_result"
    }
   ],
   "source": [
    "df_2010.ca.unique(), df_2010.unit.unique(), df_2010.scp.unique(), df_2010.linename.unique(), df_2010.division.unique(), df_2010.desc.unique()"
   ]
  },
  {
   "cell_type": "markdown",
   "id": "f99eefd5",
   "metadata": {},
   "source": [
    "Now there are not any duplicated values. The only column that can be used as features, besides the entries and exits, is the \"desc\" column\". The other columns are constant. \n",
    "\n",
    "As we can see below, the Entries' data looks like a linear function."
   ]
  },
  {
   "cell_type": "code",
   "execution_count": 10,
   "id": "5f4f9c7c",
   "metadata": {},
   "outputs": [
    {
     "data": {
      "text/plain": [
       "<matplotlib.axes._subplots.AxesSubplot at 0x7f0aeff6aca0>"
      ]
     },
     "execution_count": 10,
     "metadata": {},
     "output_type": "execute_result"
    },
    {
     "data": {
      "image/png": "[encoded data removed]",
      "text/plain": [
       "<Figure size 1440x360 with 1 Axes>"
      ]
     },
     "metadata": {
      "needs_background": "light"
     },
     "output_type": "display_data"
    }
   ],
   "source": [
    "df_2010.plot(y=\"entries\", figsize=(20,5), ylabel='Entries')"
   ]
  },
  {
   "cell_type": "markdown",
   "id": "c4e33373",
   "metadata": {},
   "source": [
    "Now, we'll read data from 2011 to 2015 (for memory reasons), using the same criteria (filtering by station, scp, and division)."
   ]
  },
  {
   "cell_type": "code",
   "execution_count": 11,
   "id": "57d3c45c-6407-467c-9da5-ee327a30e809",
   "metadata": {
    "tags": []
   },
   "outputs": [
    {
     "data": {
      "text/html": [
       "<div>\n",
       "<style scoped>\n",
       "    .dataframe tbody tr th:only-of-type {\n",
       "        vertical-align: middle;\n",
       "    }\n",
       "\n",
       "    .dataframe tbody tr th {\n",
       "        vertical-align: top;\n",
       "    }\n",
       "\n",
       "    .dataframe thead th {\n",
       "        text-align: right;\n",
       "    }\n",
       "</style>\n",
       "<table border=\"1\" class=\"dataframe\">\n",
       "  <thead>\n",
       "    <tr style=\"text-align: right;\">\n",
       "      <th></th>\n",
       "      <th>ca</th>\n",
       "      <th>unit</th>\n",
       "      <th>scp</th>\n",
       "      <th>station</th>\n",
       "      <th>linename</th>\n",
       "      <th>division</th>\n",
       "      <th>desc</th>\n",
       "      <th>entries</th>\n",
       "      <th>exits</th>\n",
       "    </tr>\n",
       "    <tr>\n",
       "      <th>time</th>\n",
       "      <th></th>\n",
       "      <th></th>\n",
       "      <th></th>\n",
       "      <th></th>\n",
       "      <th></th>\n",
       "      <th></th>\n",
       "      <th></th>\n",
       "      <th></th>\n",
       "      <th></th>\n",
       "    </tr>\n",
       "  </thead>\n",
       "  <tbody>\n",
       "    <tr>\n",
       "      <th>2010-04-17 04:00:00</th>\n",
       "      <td>A021</td>\n",
       "      <td>R032</td>\n",
       "      <td>01-00-00</td>\n",
       "      <td>42 ST-TIMES SQ</td>\n",
       "      <td>1237ACENQRS</td>\n",
       "      <td>BMT</td>\n",
       "      <td>REGULAR</td>\n",
       "      <td>19250.0</td>\n",
       "      <td>18644.0</td>\n",
       "    </tr>\n",
       "    <tr>\n",
       "      <th>2010-04-17 08:00:00</th>\n",
       "      <td>A021</td>\n",
       "      <td>R032</td>\n",
       "      <td>01-00-00</td>\n",
       "      <td>42 ST-TIMES SQ</td>\n",
       "      <td>1237ACENQRS</td>\n",
       "      <td>BMT</td>\n",
       "      <td>REGULAR</td>\n",
       "      <td>19267.0</td>\n",
       "      <td>18668.0</td>\n",
       "    </tr>\n",
       "    <tr>\n",
       "      <th>2010-04-17 12:00:00</th>\n",
       "      <td>A021</td>\n",
       "      <td>R032</td>\n",
       "      <td>01-00-00</td>\n",
       "      <td>42 ST-TIMES SQ</td>\n",
       "      <td>1237ACENQRS</td>\n",
       "      <td>BMT</td>\n",
       "      <td>REGULAR</td>\n",
       "      <td>19287.0</td>\n",
       "      <td>18726.0</td>\n",
       "    </tr>\n",
       "    <tr>\n",
       "      <th>2010-04-17 16:00:00</th>\n",
       "      <td>A021</td>\n",
       "      <td>R032</td>\n",
       "      <td>01-00-00</td>\n",
       "      <td>42 ST-TIMES SQ</td>\n",
       "      <td>1237ACENQRS</td>\n",
       "      <td>BMT</td>\n",
       "      <td>REGULAR</td>\n",
       "      <td>19424.0</td>\n",
       "      <td>19129.0</td>\n",
       "    </tr>\n",
       "    <tr>\n",
       "      <th>2010-04-17 20:00:00</th>\n",
       "      <td>A021</td>\n",
       "      <td>R032</td>\n",
       "      <td>01-00-00</td>\n",
       "      <td>42 ST-TIMES SQ</td>\n",
       "      <td>1237ACENQRS</td>\n",
       "      <td>BMT</td>\n",
       "      <td>REGULAR</td>\n",
       "      <td>19674.0</td>\n",
       "      <td>19546.0</td>\n",
       "    </tr>\n",
       "    <tr>\n",
       "      <th>...</th>\n",
       "      <td>...</td>\n",
       "      <td>...</td>\n",
       "      <td>...</td>\n",
       "      <td>...</td>\n",
       "      <td>...</td>\n",
       "      <td>...</td>\n",
       "      <td>...</td>\n",
       "      <td>...</td>\n",
       "      <td>...</td>\n",
       "    </tr>\n",
       "    <tr>\n",
       "      <th>2015-12-25 12:00:00</th>\n",
       "      <td>A021</td>\n",
       "      <td>R032</td>\n",
       "      <td>01-00-00</td>\n",
       "      <td>42 ST-TIMES SQ</td>\n",
       "      <td>ACENQRS1237</td>\n",
       "      <td>BMT</td>\n",
       "      <td>REGULAR</td>\n",
       "      <td>5341668.0</td>\n",
       "      <td>6263145.0</td>\n",
       "    </tr>\n",
       "    <tr>\n",
       "      <th>2015-12-25 16:00:00</th>\n",
       "      <td>A021</td>\n",
       "      <td>R032</td>\n",
       "      <td>01-00-00</td>\n",
       "      <td>42 ST-TIMES SQ</td>\n",
       "      <td>ACENQRS1237</td>\n",
       "      <td>BMT</td>\n",
       "      <td>REGULAR</td>\n",
       "      <td>5341719.0</td>\n",
       "      <td>6263313.0</td>\n",
       "    </tr>\n",
       "    <tr>\n",
       "      <th>2015-12-25 20:00:00</th>\n",
       "      <td>A021</td>\n",
       "      <td>R032</td>\n",
       "      <td>01-00-00</td>\n",
       "      <td>42 ST-TIMES SQ</td>\n",
       "      <td>ACENQRS1237</td>\n",
       "      <td>BMT</td>\n",
       "      <td>REGULAR</td>\n",
       "      <td>5341865.0</td>\n",
       "      <td>6263713.0</td>\n",
       "    </tr>\n",
       "    <tr>\n",
       "      <th>2015-12-26 00:00:00</th>\n",
       "      <td>A021</td>\n",
       "      <td>R032</td>\n",
       "      <td>01-00-00</td>\n",
       "      <td>42 ST-TIMES SQ</td>\n",
       "      <td>ACENQRS1237</td>\n",
       "      <td>BMT</td>\n",
       "      <td>REGULAR</td>\n",
       "      <td>5342048.0</td>\n",
       "      <td>6264318.0</td>\n",
       "    </tr>\n",
       "    <tr>\n",
       "      <th>2015-12-26 04:00:00</th>\n",
       "      <td>A021</td>\n",
       "      <td>R032</td>\n",
       "      <td>01-00-00</td>\n",
       "      <td>42 ST-TIMES SQ</td>\n",
       "      <td>ACENQRS1237</td>\n",
       "      <td>BMT</td>\n",
       "      <td>REGULAR</td>\n",
       "      <td>5342213.0</td>\n",
       "      <td>6264544.0</td>\n",
       "    </tr>\n",
       "  </tbody>\n",
       "</table>\n",
       "<p>13534 rows × 9 columns</p>\n",
       "</div>"
      ],
      "text/plain": [
       "                       ca  unit       scp         station     linename  \\\n",
       "time                                                                     \n",
       "2010-04-17 04:00:00  A021  R032  01-00-00  42 ST-TIMES SQ  1237ACENQRS   \n",
       "2010-04-17 08:00:00  A021  R032  01-00-00  42 ST-TIMES SQ  1237ACENQRS   \n",
       "2010-04-17 12:00:00  A021  R032  01-00-00  42 ST-TIMES SQ  1237ACENQRS   \n",
       "2010-04-17 16:00:00  A021  R032  01-00-00  42 ST-TIMES SQ  1237ACENQRS   \n",
       "2010-04-17 20:00:00  A021  R032  01-00-00  42 ST-TIMES SQ  1237ACENQRS   \n",
       "...                   ...   ...       ...             ...          ...   \n",
       "2015-12-25 12:00:00  A021  R032  01-00-00  42 ST-TIMES SQ  ACENQRS1237   \n",
       "2015-12-25 16:00:00  A021  R032  01-00-00  42 ST-TIMES SQ  ACENQRS1237   \n",
       "2015-12-25 20:00:00  A021  R032  01-00-00  42 ST-TIMES SQ  ACENQRS1237   \n",
       "2015-12-26 00:00:00  A021  R032  01-00-00  42 ST-TIMES SQ  ACENQRS1237   \n",
       "2015-12-26 04:00:00  A021  R032  01-00-00  42 ST-TIMES SQ  ACENQRS1237   \n",
       "\n",
       "                    division     desc    entries      exits  \n",
       "time                                                         \n",
       "2010-04-17 04:00:00      BMT  REGULAR    19250.0    18644.0  \n",
       "2010-04-17 08:00:00      BMT  REGULAR    19267.0    18668.0  \n",
       "2010-04-17 12:00:00      BMT  REGULAR    19287.0    18726.0  \n",
       "2010-04-17 16:00:00      BMT  REGULAR    19424.0    19129.0  \n",
       "2010-04-17 20:00:00      BMT  REGULAR    19674.0    19546.0  \n",
       "...                      ...      ...        ...        ...  \n",
       "2015-12-25 12:00:00      BMT  REGULAR  5341668.0  6263145.0  \n",
       "2015-12-25 16:00:00      BMT  REGULAR  5341719.0  6263313.0  \n",
       "2015-12-25 20:00:00      BMT  REGULAR  5341865.0  6263713.0  \n",
       "2015-12-26 00:00:00      BMT  REGULAR  5342048.0  6264318.0  \n",
       "2015-12-26 04:00:00      BMT  REGULAR  5342213.0  6264544.0  \n",
       "\n",
       "[13534 rows x 9 columns]"
      ]
     },
     "execution_count": 11,
     "metadata": {},
     "output_type": "execute_result"
    }
   ],
   "source": [
    "years = ['2011', '2012', '2013', '2014', '2015']\n",
    "\n",
    "for year in years:\n",
    "    df = pd.read_csv('data/'+year+'.csv')\n",
    "    df.query('station == \"42 ST-TIMES SQ\" and scp == \"01-00-00\" and division == \"BMT\"', inplace=True)\n",
    "    df = df.loc[~df.index.duplicated(keep='first')]\n",
    "    df = df.set_index('time')\n",
    "    df_2010 = pd.concat([df_2010, df])\n",
    "df = df_2010\n",
    "df"
   ]
  },
  {
   "cell_type": "markdown",
   "id": "0d6dc885",
   "metadata": {},
   "source": [
    "To predict the entries, we need to enrich our data with some features. We'll use mainly time features and the entries and exits from the previous timestamp. We remove the first register because of the time shift."
   ]
  },
  {
   "cell_type": "code",
   "execution_count": 12,
   "id": "2047d951-af40-417d-ae2f-1354878cef10",
   "metadata": {},
   "outputs": [],
   "source": [
    "df.index = pd.to_datetime(df.index)\n",
    "df['date'] = df.index\n",
    "df['hour'] = df['date'].dt.hour\n",
    "df['dayofweek'] = df['date'].dt.dayofweek\n",
    "df['month'] = df['date'].dt.month\n",
    "df['dayofmonth'] = df['date'].dt.day\n",
    "df['desc_code'] = pd.Categorical(df.desc)\n",
    "df['desc_code'] =  df['desc_code'].cat.codes\n",
    "df['prev_entries'] = df['entries'].shift(1)\n",
    "df['prev_exits'] = df['exits'].shift(1)\n",
    "X = df[['prev_entries', 'prev_exits','desc_code', \n",
    "    'hour','dayofweek','month',\n",
    "    'dayofmonth']][1:]"
   ]
  },
  {
   "cell_type": "code",
   "execution_count": 13,
   "id": "ef9d794e",
   "metadata": {},
   "outputs": [],
   "source": [
    "y = df[['entries']][1:]"
   ]
  },
  {
   "cell_type": "code",
   "execution_count": 14,
   "id": "0ed95eb1-fcaf-4022-9c0c-81fba1765924",
   "metadata": {},
   "outputs": [
    {
     "data": {
      "text/plain": [
       "(                     prev_entries  prev_exits  desc_code  hour  dayofweek  \\\n",
       " time                                                                        \n",
       " 2010-04-17 08:00:00       19250.0     18644.0          9     8          5   \n",
       " 2010-04-17 12:00:00       19267.0     18668.0          9    12          5   \n",
       " 2010-04-17 16:00:00       19287.0     18726.0          9    16          5   \n",
       " 2010-04-17 20:00:00       19424.0     19129.0          9    20          5   \n",
       " 2010-04-18 00:00:00       19674.0     19546.0          9     0          6   \n",
       " ...                           ...         ...        ...   ...        ...   \n",
       " 2015-12-25 12:00:00     5341644.0   6263114.0          9    12          4   \n",
       " 2015-12-25 16:00:00     5341668.0   6263145.0          9    16          4   \n",
       " 2015-12-25 20:00:00     5341719.0   6263313.0          9    20          4   \n",
       " 2015-12-26 00:00:00     5341865.0   6263713.0          9     0          5   \n",
       " 2015-12-26 04:00:00     5342048.0   6264318.0          9     4          5   \n",
       " \n",
       "                      month  dayofmonth  \n",
       " time                                    \n",
       " 2010-04-17 08:00:00      4          17  \n",
       " 2010-04-17 12:00:00      4          17  \n",
       " 2010-04-17 16:00:00      4          17  \n",
       " 2010-04-17 20:00:00      4          17  \n",
       " 2010-04-18 00:00:00      4          18  \n",
       " ...                    ...         ...  \n",
       " 2015-12-25 12:00:00     12          25  \n",
       " 2015-12-25 16:00:00     12          25  \n",
       " 2015-12-25 20:00:00     12          25  \n",
       " 2015-12-26 00:00:00     12          26  \n",
       " 2015-12-26 04:00:00     12          26  \n",
       " \n",
       " [13533 rows x 7 columns],\n",
       "                        entries\n",
       " time                          \n",
       " 2010-04-17 08:00:00    19267.0\n",
       " 2010-04-17 12:00:00    19287.0\n",
       " 2010-04-17 16:00:00    19424.0\n",
       " 2010-04-17 20:00:00    19674.0\n",
       " 2010-04-18 00:00:00    20051.0\n",
       " ...                        ...\n",
       " 2015-12-25 12:00:00  5341668.0\n",
       " 2015-12-25 16:00:00  5341719.0\n",
       " 2015-12-25 20:00:00  5341865.0\n",
       " 2015-12-26 00:00:00  5342048.0\n",
       " 2015-12-26 04:00:00  5342213.0\n",
       " \n",
       " [13533 rows x 1 columns])"
      ]
     },
     "execution_count": 14,
     "metadata": {},
     "output_type": "execute_result"
    }
   ],
   "source": [
    "X,y"
   ]
  },
  {
   "cell_type": "markdown",
   "id": "b3cca6e4",
   "metadata": {},
   "source": [
    "### First strategy - Linear Regressor\n",
    "Linear regression is a simple strategy, but, by looking the data, it seems a good starting point. We'll split the dataset in 80/20 and use cross-validation.\n",
    "To evaluate the model, we'll use [R2 Score](https://scikit-learn.org/stable/modules/generated/sklearn.metrics.r2_score.html) and [MAPE](https://scikit-learn.org/stable/modules/generated/sklearn.metrics.mean_absolute_percentage_error.html)."
   ]
  },
  {
   "cell_type": "code",
   "execution_count": 15,
   "id": "20c787f0-3635-4eca-badd-89722ee6f4a6",
   "metadata": {},
   "outputs": [],
   "source": [
    "estimator = LinearRegression()"
   ]
  },
  {
   "cell_type": "code",
   "execution_count": 16,
   "id": "b5cadb43-a605-4d51-9480-ee9f7f24c837",
   "metadata": {},
   "outputs": [],
   "source": [
    "split_fraction = 0.80\n",
    "train_split = int(split_fraction * int(X.shape[0]))"
   ]
  },
  {
   "cell_type": "code",
   "execution_count": 17,
   "id": "1ef08988-b383-4219-b699-9e654d61c98d",
   "metadata": {},
   "outputs": [],
   "source": [
    "x_train = X[:train_split]\n",
    "y_train = y[:train_split]\n",
    "\n",
    "x_val = X[train_split:]\n",
    "y_val = y[train_split:]"
   ]
  },
  {
   "cell_type": "code",
   "execution_count": 18,
   "id": "59799f15-8fc6-47e7-83e4-71e018044204",
   "metadata": {},
   "outputs": [
    {
     "name": "stderr",
     "output_type": "stream",
     "text": [
      "[Parallel(n_jobs=-1)]: Using backend LokyBackend with 12 concurrent workers.\n",
      "[Parallel(n_jobs=-1)]: Done   3 out of   5 | elapsed:    0.8s remaining:    0.5s\n",
      "[Parallel(n_jobs=-1)]: Done   5 out of   5 | elapsed:    0.9s finished\n"
     ]
    }
   ],
   "source": [
    "y_pred = cross_val_predict(estimator, x_val, y_val, n_jobs=-1, verbose=2)"
   ]
  },
  {
   "cell_type": "code",
   "execution_count": 19,
   "id": "b8f7262a-3b1b-4844-946c-690668bd0c51",
   "metadata": {},
   "outputs": [
    {
     "name": "stdout",
     "output_type": "stream",
     "text": [
      "r2 score:  0.9998934784825358\n",
      "MAPE score:  0.0004109045033813943\n"
     ]
    },
    {
     "data": {
      "image/png": "[encoded data removed]",
      "text/plain": [
       "<Figure size 1080x1080 with 1 Axes>"
      ]
     },
     "metadata": {
      "needs_background": "light"
     },
     "output_type": "display_data"
    }
   ],
   "source": [
    "def plot_results(x, y_val, y_pred):\n",
    "    plt.figure(figsize=(15,15))\n",
    "    ax1 = plt.plot(x, y_pred, label='Predicted entries')\n",
    "    ax2 = plt.plot(x, y_val, label='Real entries')\n",
    "    plt.legend(loc=\"upper left\")\n",
    "    plt.title('Real vs. predicted')\n",
    "    plt.xlabel('Time')\n",
    "    plt.ylabel('Entries')\n",
    "    print(\"r2 score: \", r2_score(y_val, y_pred))\n",
    "    print(\"MAPE score: \", mean_absolute_percentage_error(y_val, y_pred))\n",
    "    plt.show()\n",
    "\n",
    "plot_results(y_val.index.values, y_val.values, y_pred)"
   ]
  },
  {
   "cell_type": "markdown",
   "id": "2db6593f",
   "metadata": {},
   "source": [
    "The results were very good. Let's see how a more sofisticated strategy behaves on the same problem."
   ]
  },
  {
   "cell_type": "markdown",
   "id": "6cd884dc",
   "metadata": {},
   "source": [
    "### Second strategy: LSTM\n",
    "LSTMs are a very suitable architecture to time series problems. We'll use 12 past registers to predict 1 register from the future. The split ratio and the metrics are the same as the Linear Regression."
   ]
  },
  {
   "cell_type": "code",
   "execution_count": 20,
   "id": "a959ff2a-1213-4dc3-9fa1-79e27bdd66e4",
   "metadata": {},
   "outputs": [],
   "source": [
    "step = 1\n",
    "past = 12\n",
    "future = 1\n",
    "learning_rate = 0.001\n",
    "batch_size = 64\n",
    "epochs = 5"
   ]
  },
  {
   "cell_type": "code",
   "execution_count": 21,
   "id": "c05b7e4c-71e9-431e-8a99-fdf627a87134",
   "metadata": {},
   "outputs": [],
   "source": [
    "features =  X.values"
   ]
  },
  {
   "cell_type": "code",
   "execution_count": 22,
   "id": "192761d6-8ba1-4e27-b1d2-03f2ccb7be25",
   "metadata": {},
   "outputs": [],
   "source": [
    "x_train = features[:train_split]\n",
    "x_val = features[train_split:]\n",
    "\n",
    "y_train = y.values[:train_split]\n",
    "y_val = y.values[train_split:]\n",
    "y_val_index = y.index.values[train_split:]"
   ]
  },
  {
   "cell_type": "code",
   "execution_count": 23,
   "id": "0b471f35-93e3-4ae3-92f1-884cf48b0bd2",
   "metadata": {},
   "outputs": [],
   "source": [
    "start = past + future\n",
    "end = start + train_split\n",
    "\n",
    "sequence_length = past"
   ]
  },
  {
   "cell_type": "code",
   "execution_count": 24,
   "id": "0ff04caf-d578-441d-b1a6-ef8d9ce8bce1",
   "metadata": {},
   "outputs": [],
   "source": [
    "dataset_train = tf.keras.preprocessing.timeseries_dataset_from_array(\n",
    "    x_train,\n",
    "    y_train,\n",
    "    sequence_length=sequence_length,\n",
    "    sampling_rate=step,\n",
    "    batch_size=batch_size,\n",
    ")"
   ]
  },
  {
   "cell_type": "code",
   "execution_count": 25,
   "id": "eef19483-f039-4fca-8b08-7480d74e7bc0",
   "metadata": {},
   "outputs": [
    {
     "name": "stdout",
     "output_type": "stream",
     "text": [
      "Input shape: (64, 12, 7)\n",
      "Target shape: (64, 1)\n"
     ]
    }
   ],
   "source": [
    "x_end = len(y_val) - past - future\n",
    "\n",
    "label_start = train_split + past + future\n",
    "\n",
    "dataset_val = tf.keras.preprocessing.timeseries_dataset_from_array(\n",
    "    x_val,\n",
    "    y_val,\n",
    "    sequence_length=sequence_length,\n",
    "    sampling_rate=step,\n",
    "    batch_size=batch_size,\n",
    ")\n",
    "\n",
    "\n",
    "for batch in dataset_train.take(1):\n",
    "    inputs, targets = batch\n",
    "\n",
    "print(\"Input shape:\", inputs.numpy().shape)\n",
    "print(\"Target shape:\", targets.numpy().shape)\n"
   ]
  },
  {
   "cell_type": "code",
   "execution_count": 26,
   "id": "c9b9dcb1-bc78-4c27-82be-d4b0e462ac31",
   "metadata": {},
   "outputs": [
    {
     "name": "stdout",
     "output_type": "stream",
     "text": [
      "Model: \"model\"\n",
      "_________________________________________________________________\n",
      "Layer (type)                 Output Shape              Param #   \n",
      "=================================================================\n",
      "input_1 (InputLayer)         [(None, 12, 7)]           0         \n",
      "_________________________________________________________________\n",
      "lstm (LSTM)                  (None, 128)               69632     \n",
      "_________________________________________________________________\n",
      "dense (Dense)                (None, 1)                 129       \n",
      "=================================================================\n",
      "Total params: 69,761\n",
      "Trainable params: 69,761\n",
      "Non-trainable params: 0\n",
      "_________________________________________________________________\n"
     ]
    }
   ],
   "source": [
    "inputs = keras.layers.Input(shape=(inputs.shape[1], inputs.shape[2]))\n",
    "lstm_out = keras.layers.LSTM(128,  activation='relu')(inputs)\n",
    "outputs = keras.layers.Dense(1)(lstm_out)\n",
    "\n",
    "model = keras.Model(inputs=inputs, outputs=outputs)\n",
    "model.compile(optimizer=keras.optimizers.Adam(learning_rate=learning_rate), loss=tf.keras.losses.MeanSquaredLogarithmicError())\n",
    "model.summary()\n"
   ]
  },
  {
   "cell_type": "code",
   "execution_count": 27,
   "id": "31e771c0-0d8c-4c1b-9f43-cdc9b5703380",
   "metadata": {},
   "outputs": [
    {
     "name": "stdout",
     "output_type": "stream",
     "text": [
      "Epoch 1/5\n",
      "169/169 [==============================] - 12s 11ms/step - loss: 26.6456 - val_loss: 0.0177\n",
      "\n",
      "Epoch 00001: val_loss improved from inf to 0.01772, saving model to model_checkpoint.h5\n",
      "Epoch 2/5\n",
      "169/169 [==============================] - 1s 9ms/step - loss: 0.0598 - val_loss: 2.0373e-04\n",
      "\n",
      "Epoch 00002: val_loss improved from 0.01772 to 0.00020, saving model to model_checkpoint.h5\n",
      "Epoch 3/5\n",
      "169/169 [==============================] - 2s 9ms/step - loss: 0.0341 - val_loss: 0.0090\n",
      "\n",
      "Epoch 00003: val_loss did not improve from 0.00020\n",
      "Epoch 4/5\n",
      "169/169 [==============================] - 2s 9ms/step - loss: 0.0918 - val_loss: 1.2713e-04\n",
      "\n",
      "Epoch 00004: val_loss improved from 0.00020 to 0.00013, saving model to model_checkpoint.h5\n",
      "Epoch 5/5\n",
      "169/169 [==============================] - 1s 9ms/step - loss: 0.0752 - val_loss: 1.0191e-05\n",
      "\n",
      "Epoch 00005: val_loss improved from 0.00013 to 0.00001, saving model to model_checkpoint.h5\n"
     ]
    }
   ],
   "source": [
    "path_checkpoint = \"model_checkpoint.h5\"\n",
    "es_callback = keras.callbacks.EarlyStopping(monitor=\"val_loss\", min_delta=0, patience=5)\n",
    "\n",
    "modelckpt_callback = keras.callbacks.ModelCheckpoint(\n",
    "    monitor=\"val_loss\",\n",
    "    filepath=path_checkpoint,\n",
    "    verbose=1,\n",
    "    save_weights_only=True,\n",
    "    save_best_only=True,\n",
    ")\n",
    "\n",
    "history = model.fit(\n",
    "    dataset_train,\n",
    "    epochs=epochs,\n",
    "    validation_data=dataset_val,\n",
    "    callbacks=[es_callback, modelckpt_callback],\n",
    ")"
   ]
  },
  {
   "cell_type": "markdown",
   "id": "755d1169-4726-494f-acaf-c1ae5cbd72c0",
   "metadata": {},
   "source": [
    "loss=tf.keras.losses.MeanAbsolutePercentageError()\n",
    "loss(y.values, np.array(model.predict(X))).numpy()"
   ]
  },
  {
   "cell_type": "code",
   "execution_count": 28,
   "id": "3c3d8450-2061-4974-8616-edbf42047704",
   "metadata": {
    "tags": []
   },
   "outputs": [
    {
     "name": "stdout",
     "output_type": "stream",
     "text": [
      "r2 score:  0.997752175903596\n",
      "MAPE score:  0.0025450404345665053\n"
     ]
    },
    {
     "data": {
      "image/png": "[encoded data removed]",
      "text/plain": [
       "<Figure size 1080x1080 with 1 Axes>"
      ]
     },
     "metadata": {
      "needs_background": "light"
     },
     "output_type": "display_data"
    }
   ],
   "source": [
    "y_pred = model.predict(dataset_val)\n",
    "plot_results(y_val_index[:len(y_pred)], y_val[:len(y_pred)], y_pred)"
   ]
  },
  {
   "cell_type": "markdown",
   "id": "a913595d",
   "metadata": {},
   "source": [
    "The resuts area little bit worse than the Linear regression. Sometimes a simple strategy works better than a more sofisticated one."
   ]
  },
  {
   "cell_type": "code",
   "execution_count": null,
   "id": "ed25d022",
   "metadata": {},
   "outputs": [],
   "source": []
  }
 ],
 "metadata": {
  "kernelspec": {
   "display_name": "Python 3",
   "language": "python",
   "name": "python3"
  },
  "language_info": {
   "codemirror_mode": {
    "name": "ipython",
    "version": 3
   },
   "file_extension": ".py",
   "mimetype": "text/x-python",
   "name": "python",
   "nbconvert_exporter": "python",
   "pygments_lexer": "ipython3",
   "version": "3.8.5"
  }
 },
 "nbformat": 4,
 "nbformat_minor": 5
}
